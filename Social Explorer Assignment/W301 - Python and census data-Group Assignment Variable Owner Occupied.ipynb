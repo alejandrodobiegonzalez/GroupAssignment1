{
 "cells": [
  {
   "cell_type": "markdown",
   "metadata": {
    "toc": true
   },
   "source": [
    "<h1>Table of Contents<span class=\"tocSkip\"></span></h1>\n",
    "<div class=\"toc\"><ul class=\"toc-item\"><li><span><a href=\"#Take-notice!\" data-toc-modified-id=\"Take-notice!-1\"><span class=\"toc-item-num\">1&nbsp;&nbsp;</span>Take notice!</a></span></li><li><span><a href=\"#Pandas-and-census-data\" data-toc-modified-id=\"Pandas-and-census-data-2\"><span class=\"toc-item-num\">2&nbsp;&nbsp;</span>Pandas and census data</a></span><ul class=\"toc-item\"><li><span><a href=\"#Where-to-get-census-data?\" data-toc-modified-id=\"Where-to-get-census-data?-2.1\"><span class=\"toc-item-num\">2.1&nbsp;&nbsp;</span>Where to get census data?</a></span><ul class=\"toc-item\"><li><span><a href=\"#Social-Explorer\" data-toc-modified-id=\"Social-Explorer-2.1.1\"><span class=\"toc-item-num\">2.1.1&nbsp;&nbsp;</span>Social Explorer</a></span></li></ul></li><li><span><a href=\"#Importing-data\" data-toc-modified-id=\"Importing-data-2.2\"><span class=\"toc-item-num\">2.2&nbsp;&nbsp;</span>Importing data</a></span></li><li><span><a href=\"#Preliminary-inspection\" data-toc-modified-id=\"Preliminary-inspection-2.3\"><span class=\"toc-item-num\">2.3&nbsp;&nbsp;</span>Preliminary inspection</a></span></li><li><span><a href=\"#Overwriting-default-display-settings\" data-toc-modified-id=\"Overwriting-default-display-settings-2.4\"><span class=\"toc-item-num\">2.4&nbsp;&nbsp;</span>Overwriting default display settings</a></span></li><li><span><a href=\"#Data-types\" data-toc-modified-id=\"Data-types-2.5\"><span class=\"toc-item-num\">2.5&nbsp;&nbsp;</span>Data types</a></span></li><li><span><a href=\"#Assigning-data-types-on-import\" data-toc-modified-id=\"Assigning-data-types-on-import-2.6\"><span class=\"toc-item-num\">2.6&nbsp;&nbsp;</span>Assigning data types on import</a></span><ul class=\"toc-item\"><li><span><a href=\"#The-leading-zero-dilemma...\" data-toc-modified-id=\"The-leading-zero-dilemma...-2.6.1\"><span class=\"toc-item-num\">2.6.1&nbsp;&nbsp;</span>The leading zero dilemma...</a></span></li><li><span><a href=\"#The-FIPS-code\" data-toc-modified-id=\"The-FIPS-code-2.6.2\"><span class=\"toc-item-num\">2.6.2&nbsp;&nbsp;</span>The FIPS code</a></span></li></ul></li><li><span><a href=\"#Drop/Delete-null-columns\" data-toc-modified-id=\"Drop/Delete-null-columns-2.7\"><span class=\"toc-item-num\">2.7&nbsp;&nbsp;</span>Drop/Delete null columns</a></span></li><li><span><a href=\"#Dropping-columns-by-name\" data-toc-modified-id=\"Dropping-columns-by-name-2.8\"><span class=\"toc-item-num\">2.8&nbsp;&nbsp;</span>Dropping columns by name</a></span></li><li><span><a href=\"#The-census-data-dictionary\" data-toc-modified-id=\"The-census-data-dictionary-2.9\"><span class=\"toc-item-num\">2.9&nbsp;&nbsp;</span>The census data dictionary</a></span></li><li><span><a href=\"#Renaming-columns\" data-toc-modified-id=\"Renaming-columns-2.10\"><span class=\"toc-item-num\">2.10&nbsp;&nbsp;</span>Renaming columns</a></span></li><li><span><a href=\"#Simple-stats-and-plots\" data-toc-modified-id=\"Simple-stats-and-plots-2.11\"><span class=\"toc-item-num\">2.11&nbsp;&nbsp;</span>Simple stats and plots</a></span></li><li><span><a href=\"#Displaying-null/missing-values\" data-toc-modified-id=\"Displaying-null/missing-values-2.12\"><span class=\"toc-item-num\">2.12&nbsp;&nbsp;</span>Displaying null/missing values</a></span></li><li><span><a href=\"#Sorting\" data-toc-modified-id=\"Sorting-2.13\"><span class=\"toc-item-num\">2.13&nbsp;&nbsp;</span>Sorting</a></span></li><li><span><a href=\"#Filtering-and-subsetting-data\" data-toc-modified-id=\"Filtering-and-subsetting-data-2.14\"><span class=\"toc-item-num\">2.14&nbsp;&nbsp;</span>Filtering and subsetting data</a></span></li></ul></li><li><span><a href=\"#Maps!\" data-toc-modified-id=\"Maps!-3\"><span class=\"toc-item-num\">3&nbsp;&nbsp;</span>Maps!</a></span><ul class=\"toc-item\"><li><span><a href=\"#Geopandas-to-read-geojson\" data-toc-modified-id=\"Geopandas-to-read-geojson-3.1\"><span class=\"toc-item-num\">3.1&nbsp;&nbsp;</span>Geopandas to read geojson</a></span></li><li><span><a href=\"#Merging/joining-data\" data-toc-modified-id=\"Merging/joining-data-3.2\"><span class=\"toc-item-num\">3.2&nbsp;&nbsp;</span>Merging/joining data</a></span></li></ul></li></ul></div>"
   ]
  },
  {
   "cell_type": "markdown",
   "metadata": {
    "slideshow": {
     "slide_type": "slide"
    }
   },
   "source": [
    "<div class=\"alert alert-danger\">\n",
    "\n",
    "<h1>Take notice!</h1>\n",
    "<ul>\n",
    "    <li>Make sure you are working with a copy and not the original notebook file</li>\n",
    "    <li>This class will be recorded</li>\n",
    "</ul>\n",
    "    \n",
    "</div>"
   ]
  },
  {
   "cell_type": "markdown",
   "metadata": {
    "slideshow": {
     "slide_type": "slide"
    }
   },
   "source": [
    "# Pandas and census data\n",
    "Overview of this week's notebook:\n",
    "\n",
    "- how and where to find and download census data\n",
    "- use `pandas` library to read a csv file\n",
    "- learn how to find empty columns and eliminate them\n",
    "- drop unnecessary columns\n",
    "- renaming columns\n",
    "- simple stats\n",
    "- geopandas and folium"
   ]
  },
  {
   "cell_type": "markdown",
   "metadata": {
    "slideshow": {
     "slide_type": "slide"
    }
   },
   "source": [
    "## Where to get census data?\n",
    "\n",
    "<img src=\"images/se_splash.jpg\" width=600>\n",
    "\n",
    "Well, you have many options, including, getting it directly from the source, the census bureau website itself. However, as part of the academic community, we are offered a great resource: Social Explorer. With a campus-wide license to have full access to their website, you can download any census variable, that pretty much existed... ever. And, with its easy-to-use user interface, this is a wonderful one-stop shop for your census needs."
   ]
  },
  {
   "cell_type": "markdown",
   "metadata": {
    "slideshow": {
     "slide_type": "slide"
    }
   },
   "source": [
    "### Social Explorer\n",
    "\n",
    "* Use the [campus VPN](https://www.it.ucla.edu/it-support-center/services/virtual-private-network-vpn-clients)\n",
    "* https://www.socialexplorer.com\n",
    "* Follow this guide on [how to download data from social explorer](https://github.com/yohman/up206a/blob/master/guides/social_explorer.md)"
   ]
  },
  {
   "cell_type": "markdown",
   "metadata": {
    "slideshow": {
     "slide_type": "slide"
    }
   },
   "source": [
    "## Importing data\n",
    "\n",
    "As always, in order to work with data in python, we need a library that will let us handle \"data exploration.\" We looked at geopandas last week, but let's go to its origin, the one and only, `pandas` library.\n",
    "\n",
    "* https://pandas.pydata.org/"
   ]
  },
  {
   "cell_type": "code",
   "execution_count": 66,
   "metadata": {},
   "outputs": [],
   "source": [
    "import pandas as pd"
   ]
  },
  {
   "cell_type": "markdown",
   "metadata": {
    "slideshow": {
     "slide_type": "slide"
    }
   },
   "source": [
    "Next, we make the call to load and read the data that was downloaded from social explorer. Again, take note at the relative path reference to find the file in your file directory."
   ]
  },
  {
   "cell_type": "code",
   "execution_count": 67,
   "metadata": {},
   "outputs": [],
   "source": [
    "# load a data file\n",
    "# note the relative filepath! where is this file located?\n",
    "df = pd.read_csv('data/AtwaterACS2013RenterVOwnerOccupied.csv')\n"
   ]
  },
  {
   "cell_type": "markdown",
   "metadata": {
    "slideshow": {
     "slide_type": "slide"
    }
   },
   "source": [
    "## Preliminary inspection\n",
    "A quick look at the size of the data."
   ]
  },
  {
   "cell_type": "code",
   "execution_count": 68,
   "metadata": {},
   "outputs": [
    {
     "data": {
      "text/plain": [
       "(18, 58)"
      ]
     },
     "execution_count": 68,
     "metadata": {},
     "output_type": "execute_result"
    }
   ],
   "source": [
    "df.shape"
   ]
  },
  {
   "cell_type": "code",
   "execution_count": 69,
   "metadata": {
    "scrolled": true,
    "slideshow": {
     "slide_type": "slide"
    }
   },
   "outputs": [
    {
     "data": {
      "text/html": [
       "<div>\n",
       "<style scoped>\n",
       "    .dataframe tbody tr th:only-of-type {\n",
       "        vertical-align: middle;\n",
       "    }\n",
       "\n",
       "    .dataframe tbody tr th {\n",
       "        vertical-align: top;\n",
       "    }\n",
       "\n",
       "    .dataframe thead th {\n",
       "        text-align: right;\n",
       "    }\n",
       "</style>\n",
       "<table border=\"1\" class=\"dataframe\">\n",
       "  <thead>\n",
       "    <tr style=\"text-align: right;\">\n",
       "      <th></th>\n",
       "      <th>Geo_FIPS</th>\n",
       "      <th>Geo_GEOID</th>\n",
       "      <th>Geo_NAME</th>\n",
       "      <th>Geo_QName</th>\n",
       "      <th>Geo_STUSAB</th>\n",
       "      <th>Geo_SUMLEV</th>\n",
       "      <th>Geo_GEOCOMP</th>\n",
       "      <th>Geo_FILEID</th>\n",
       "      <th>Geo_LOGRECNO</th>\n",
       "      <th>Geo_US</th>\n",
       "      <th>Geo_REGION</th>\n",
       "      <th>Geo_DIVISION</th>\n",
       "      <th>Geo_STATECE</th>\n",
       "      <th>Geo_STATE</th>\n",
       "      <th>Geo_COUNTY</th>\n",
       "      <th>Geo_COUSUB</th>\n",
       "      <th>Geo_PLACE</th>\n",
       "      <th>Geo_PLACESE</th>\n",
       "      <th>Geo_TRACT</th>\n",
       "      <th>Geo_BLKGRP</th>\n",
       "      <th>Geo_CONCIT</th>\n",
       "      <th>Geo_AIANHH</th>\n",
       "      <th>Geo_AIANHHFP</th>\n",
       "      <th>Geo_AIHHTLI</th>\n",
       "      <th>Geo_AITSCE</th>\n",
       "      <th>Geo_AITS</th>\n",
       "      <th>Geo_ANRC</th>\n",
       "      <th>Geo_CBSA</th>\n",
       "      <th>Geo_CSA</th>\n",
       "      <th>Geo_METDIV</th>\n",
       "      <th>Geo_MACC</th>\n",
       "      <th>Geo_MEMI</th>\n",
       "      <th>Geo_NECTA</th>\n",
       "      <th>Geo_CNECTA</th>\n",
       "      <th>Geo_NECTADIV</th>\n",
       "      <th>Geo_UA</th>\n",
       "      <th>Geo_UACP</th>\n",
       "      <th>Geo_CDCURR</th>\n",
       "      <th>Geo_SLDU</th>\n",
       "      <th>Geo_SLDL</th>\n",
       "      <th>Geo_VTD</th>\n",
       "      <th>Geo_ZCTA3</th>\n",
       "      <th>Geo_ZCTA5</th>\n",
       "      <th>Geo_SUBMCD</th>\n",
       "      <th>Geo_SDELM</th>\n",
       "      <th>Geo_SDSEC</th>\n",
       "      <th>Geo_SDUNI</th>\n",
       "      <th>Geo_UR</th>\n",
       "      <th>Geo_PCI</th>\n",
       "      <th>Geo_TAZ</th>\n",
       "      <th>Geo_UGA</th>\n",
       "      <th>Geo_BTTR</th>\n",
       "      <th>Geo_BTBG</th>\n",
       "      <th>Geo_PUMA5</th>\n",
       "      <th>Geo_PUMA1</th>\n",
       "      <th>SE_A10060_001</th>\n",
       "      <th>SE_A10060_002</th>\n",
       "      <th>SE_A10060_003</th>\n",
       "    </tr>\n",
       "  </thead>\n",
       "  <tbody>\n",
       "    <tr>\n",
       "      <th>0</th>\n",
       "      <td>60371863011</td>\n",
       "      <td>15000US060371863011</td>\n",
       "      <td>Block Group 1, Census Tract 1863.01, Los Angel...</td>\n",
       "      <td>Block Group 1, Census Tract 1863.01, Los Angel...</td>\n",
       "      <td>ca</td>\n",
       "      <td>150</td>\n",
       "      <td>0</td>\n",
       "      <td>ACSSF</td>\n",
       "      <td>15231</td>\n",
       "      <td>NaN</td>\n",
       "      <td>NaN</td>\n",
       "      <td>NaN</td>\n",
       "      <td>NaN</td>\n",
       "      <td>6</td>\n",
       "      <td>37</td>\n",
       "      <td>NaN</td>\n",
       "      <td>NaN</td>\n",
       "      <td>NaN</td>\n",
       "      <td>186301</td>\n",
       "      <td>1</td>\n",
       "      <td>NaN</td>\n",
       "      <td>NaN</td>\n",
       "      <td>NaN</td>\n",
       "      <td>NaN</td>\n",
       "      <td>NaN</td>\n",
       "      <td>NaN</td>\n",
       "      <td>NaN</td>\n",
       "      <td>NaN</td>\n",
       "      <td>NaN</td>\n",
       "      <td>NaN</td>\n",
       "      <td>NaN</td>\n",
       "      <td>NaN</td>\n",
       "      <td>NaN</td>\n",
       "      <td>NaN</td>\n",
       "      <td>NaN</td>\n",
       "      <td>NaN</td>\n",
       "      <td>NaN</td>\n",
       "      <td>NaN</td>\n",
       "      <td>NaN</td>\n",
       "      <td>NaN</td>\n",
       "      <td>NaN</td>\n",
       "      <td>NaN</td>\n",
       "      <td>NaN</td>\n",
       "      <td>NaN</td>\n",
       "      <td>NaN</td>\n",
       "      <td>NaN</td>\n",
       "      <td>NaN</td>\n",
       "      <td>NaN</td>\n",
       "      <td>NaN</td>\n",
       "      <td>NaN</td>\n",
       "      <td>NaN</td>\n",
       "      <td>NaN</td>\n",
       "      <td>NaN</td>\n",
       "      <td>NaN</td>\n",
       "      <td>NaN</td>\n",
       "      <td>357</td>\n",
       "      <td>245</td>\n",
       "      <td>112</td>\n",
       "    </tr>\n",
       "    <tr>\n",
       "      <th>1</th>\n",
       "      <td>60371863012</td>\n",
       "      <td>15000US060371863012</td>\n",
       "      <td>Block Group 2, Census Tract 1863.01, Los Angel...</td>\n",
       "      <td>Block Group 2, Census Tract 1863.01, Los Angel...</td>\n",
       "      <td>ca</td>\n",
       "      <td>150</td>\n",
       "      <td>0</td>\n",
       "      <td>ACSSF</td>\n",
       "      <td>15232</td>\n",
       "      <td>NaN</td>\n",
       "      <td>NaN</td>\n",
       "      <td>NaN</td>\n",
       "      <td>NaN</td>\n",
       "      <td>6</td>\n",
       "      <td>37</td>\n",
       "      <td>NaN</td>\n",
       "      <td>NaN</td>\n",
       "      <td>NaN</td>\n",
       "      <td>186301</td>\n",
       "      <td>2</td>\n",
       "      <td>NaN</td>\n",
       "      <td>NaN</td>\n",
       "      <td>NaN</td>\n",
       "      <td>NaN</td>\n",
       "      <td>NaN</td>\n",
       "      <td>NaN</td>\n",
       "      <td>NaN</td>\n",
       "      <td>NaN</td>\n",
       "      <td>NaN</td>\n",
       "      <td>NaN</td>\n",
       "      <td>NaN</td>\n",
       "      <td>NaN</td>\n",
       "      <td>NaN</td>\n",
       "      <td>NaN</td>\n",
       "      <td>NaN</td>\n",
       "      <td>NaN</td>\n",
       "      <td>NaN</td>\n",
       "      <td>NaN</td>\n",
       "      <td>NaN</td>\n",
       "      <td>NaN</td>\n",
       "      <td>NaN</td>\n",
       "      <td>NaN</td>\n",
       "      <td>NaN</td>\n",
       "      <td>NaN</td>\n",
       "      <td>NaN</td>\n",
       "      <td>NaN</td>\n",
       "      <td>NaN</td>\n",
       "      <td>NaN</td>\n",
       "      <td>NaN</td>\n",
       "      <td>NaN</td>\n",
       "      <td>NaN</td>\n",
       "      <td>NaN</td>\n",
       "      <td>NaN</td>\n",
       "      <td>NaN</td>\n",
       "      <td>NaN</td>\n",
       "      <td>207</td>\n",
       "      <td>56</td>\n",
       "      <td>151</td>\n",
       "    </tr>\n",
       "    <tr>\n",
       "      <th>2</th>\n",
       "      <td>60371863013</td>\n",
       "      <td>15000US060371863013</td>\n",
       "      <td>Block Group 3, Census Tract 1863.01, Los Angel...</td>\n",
       "      <td>Block Group 3, Census Tract 1863.01, Los Angel...</td>\n",
       "      <td>ca</td>\n",
       "      <td>150</td>\n",
       "      <td>0</td>\n",
       "      <td>ACSSF</td>\n",
       "      <td>15233</td>\n",
       "      <td>NaN</td>\n",
       "      <td>NaN</td>\n",
       "      <td>NaN</td>\n",
       "      <td>NaN</td>\n",
       "      <td>6</td>\n",
       "      <td>37</td>\n",
       "      <td>NaN</td>\n",
       "      <td>NaN</td>\n",
       "      <td>NaN</td>\n",
       "      <td>186301</td>\n",
       "      <td>3</td>\n",
       "      <td>NaN</td>\n",
       "      <td>NaN</td>\n",
       "      <td>NaN</td>\n",
       "      <td>NaN</td>\n",
       "      <td>NaN</td>\n",
       "      <td>NaN</td>\n",
       "      <td>NaN</td>\n",
       "      <td>NaN</td>\n",
       "      <td>NaN</td>\n",
       "      <td>NaN</td>\n",
       "      <td>NaN</td>\n",
       "      <td>NaN</td>\n",
       "      <td>NaN</td>\n",
       "      <td>NaN</td>\n",
       "      <td>NaN</td>\n",
       "      <td>NaN</td>\n",
       "      <td>NaN</td>\n",
       "      <td>NaN</td>\n",
       "      <td>NaN</td>\n",
       "      <td>NaN</td>\n",
       "      <td>NaN</td>\n",
       "      <td>NaN</td>\n",
       "      <td>NaN</td>\n",
       "      <td>NaN</td>\n",
       "      <td>NaN</td>\n",
       "      <td>NaN</td>\n",
       "      <td>NaN</td>\n",
       "      <td>NaN</td>\n",
       "      <td>NaN</td>\n",
       "      <td>NaN</td>\n",
       "      <td>NaN</td>\n",
       "      <td>NaN</td>\n",
       "      <td>NaN</td>\n",
       "      <td>NaN</td>\n",
       "      <td>NaN</td>\n",
       "      <td>293</td>\n",
       "      <td>20</td>\n",
       "      <td>273</td>\n",
       "    </tr>\n",
       "    <tr>\n",
       "      <th>3</th>\n",
       "      <td>60371863021</td>\n",
       "      <td>15000US060371863021</td>\n",
       "      <td>Block Group 1, Census Tract 1863.02, Los Angel...</td>\n",
       "      <td>Block Group 1, Census Tract 1863.02, Los Angel...</td>\n",
       "      <td>ca</td>\n",
       "      <td>150</td>\n",
       "      <td>0</td>\n",
       "      <td>ACSSF</td>\n",
       "      <td>15234</td>\n",
       "      <td>NaN</td>\n",
       "      <td>NaN</td>\n",
       "      <td>NaN</td>\n",
       "      <td>NaN</td>\n",
       "      <td>6</td>\n",
       "      <td>37</td>\n",
       "      <td>NaN</td>\n",
       "      <td>NaN</td>\n",
       "      <td>NaN</td>\n",
       "      <td>186302</td>\n",
       "      <td>1</td>\n",
       "      <td>NaN</td>\n",
       "      <td>NaN</td>\n",
       "      <td>NaN</td>\n",
       "      <td>NaN</td>\n",
       "      <td>NaN</td>\n",
       "      <td>NaN</td>\n",
       "      <td>NaN</td>\n",
       "      <td>NaN</td>\n",
       "      <td>NaN</td>\n",
       "      <td>NaN</td>\n",
       "      <td>NaN</td>\n",
       "      <td>NaN</td>\n",
       "      <td>NaN</td>\n",
       "      <td>NaN</td>\n",
       "      <td>NaN</td>\n",
       "      <td>NaN</td>\n",
       "      <td>NaN</td>\n",
       "      <td>NaN</td>\n",
       "      <td>NaN</td>\n",
       "      <td>NaN</td>\n",
       "      <td>NaN</td>\n",
       "      <td>NaN</td>\n",
       "      <td>NaN</td>\n",
       "      <td>NaN</td>\n",
       "      <td>NaN</td>\n",
       "      <td>NaN</td>\n",
       "      <td>NaN</td>\n",
       "      <td>NaN</td>\n",
       "      <td>NaN</td>\n",
       "      <td>NaN</td>\n",
       "      <td>NaN</td>\n",
       "      <td>NaN</td>\n",
       "      <td>NaN</td>\n",
       "      <td>NaN</td>\n",
       "      <td>NaN</td>\n",
       "      <td>523</td>\n",
       "      <td>316</td>\n",
       "      <td>207</td>\n",
       "    </tr>\n",
       "    <tr>\n",
       "      <th>4</th>\n",
       "      <td>60371864011</td>\n",
       "      <td>15000US060371864011</td>\n",
       "      <td>Block Group 1, Census Tract 1864.01, Los Angel...</td>\n",
       "      <td>Block Group 1, Census Tract 1864.01, Los Angel...</td>\n",
       "      <td>ca</td>\n",
       "      <td>150</td>\n",
       "      <td>0</td>\n",
       "      <td>ACSSF</td>\n",
       "      <td>15237</td>\n",
       "      <td>NaN</td>\n",
       "      <td>NaN</td>\n",
       "      <td>NaN</td>\n",
       "      <td>NaN</td>\n",
       "      <td>6</td>\n",
       "      <td>37</td>\n",
       "      <td>NaN</td>\n",
       "      <td>NaN</td>\n",
       "      <td>NaN</td>\n",
       "      <td>186401</td>\n",
       "      <td>1</td>\n",
       "      <td>NaN</td>\n",
       "      <td>NaN</td>\n",
       "      <td>NaN</td>\n",
       "      <td>NaN</td>\n",
       "      <td>NaN</td>\n",
       "      <td>NaN</td>\n",
       "      <td>NaN</td>\n",
       "      <td>NaN</td>\n",
       "      <td>NaN</td>\n",
       "      <td>NaN</td>\n",
       "      <td>NaN</td>\n",
       "      <td>NaN</td>\n",
       "      <td>NaN</td>\n",
       "      <td>NaN</td>\n",
       "      <td>NaN</td>\n",
       "      <td>NaN</td>\n",
       "      <td>NaN</td>\n",
       "      <td>NaN</td>\n",
       "      <td>NaN</td>\n",
       "      <td>NaN</td>\n",
       "      <td>NaN</td>\n",
       "      <td>NaN</td>\n",
       "      <td>NaN</td>\n",
       "      <td>NaN</td>\n",
       "      <td>NaN</td>\n",
       "      <td>NaN</td>\n",
       "      <td>NaN</td>\n",
       "      <td>NaN</td>\n",
       "      <td>NaN</td>\n",
       "      <td>NaN</td>\n",
       "      <td>NaN</td>\n",
       "      <td>NaN</td>\n",
       "      <td>NaN</td>\n",
       "      <td>NaN</td>\n",
       "      <td>NaN</td>\n",
       "      <td>637</td>\n",
       "      <td>48</td>\n",
       "      <td>589</td>\n",
       "    </tr>\n",
       "  </tbody>\n",
       "</table>\n",
       "</div>"
      ],
      "text/plain": [
       "      Geo_FIPS            Geo_GEOID  \\\n",
       "0  60371863011  15000US060371863011   \n",
       "1  60371863012  15000US060371863012   \n",
       "2  60371863013  15000US060371863013   \n",
       "3  60371863021  15000US060371863021   \n",
       "4  60371864011  15000US060371864011   \n",
       "\n",
       "                                            Geo_NAME  \\\n",
       "0  Block Group 1, Census Tract 1863.01, Los Angel...   \n",
       "1  Block Group 2, Census Tract 1863.01, Los Angel...   \n",
       "2  Block Group 3, Census Tract 1863.01, Los Angel...   \n",
       "3  Block Group 1, Census Tract 1863.02, Los Angel...   \n",
       "4  Block Group 1, Census Tract 1864.01, Los Angel...   \n",
       "\n",
       "                                           Geo_QName Geo_STUSAB  Geo_SUMLEV  \\\n",
       "0  Block Group 1, Census Tract 1863.01, Los Angel...         ca         150   \n",
       "1  Block Group 2, Census Tract 1863.01, Los Angel...         ca         150   \n",
       "2  Block Group 3, Census Tract 1863.01, Los Angel...         ca         150   \n",
       "3  Block Group 1, Census Tract 1863.02, Los Angel...         ca         150   \n",
       "4  Block Group 1, Census Tract 1864.01, Los Angel...         ca         150   \n",
       "\n",
       "   Geo_GEOCOMP Geo_FILEID  Geo_LOGRECNO  Geo_US  Geo_REGION  Geo_DIVISION  \\\n",
       "0            0      ACSSF         15231     NaN         NaN           NaN   \n",
       "1            0      ACSSF         15232     NaN         NaN           NaN   \n",
       "2            0      ACSSF         15233     NaN         NaN           NaN   \n",
       "3            0      ACSSF         15234     NaN         NaN           NaN   \n",
       "4            0      ACSSF         15237     NaN         NaN           NaN   \n",
       "\n",
       "   Geo_STATECE  Geo_STATE  Geo_COUNTY  Geo_COUSUB  Geo_PLACE  Geo_PLACESE  \\\n",
       "0          NaN          6          37         NaN        NaN          NaN   \n",
       "1          NaN          6          37         NaN        NaN          NaN   \n",
       "2          NaN          6          37         NaN        NaN          NaN   \n",
       "3          NaN          6          37         NaN        NaN          NaN   \n",
       "4          NaN          6          37         NaN        NaN          NaN   \n",
       "\n",
       "   Geo_TRACT  Geo_BLKGRP  Geo_CONCIT  Geo_AIANHH  Geo_AIANHHFP  Geo_AIHHTLI  \\\n",
       "0     186301           1         NaN         NaN           NaN          NaN   \n",
       "1     186301           2         NaN         NaN           NaN          NaN   \n",
       "2     186301           3         NaN         NaN           NaN          NaN   \n",
       "3     186302           1         NaN         NaN           NaN          NaN   \n",
       "4     186401           1         NaN         NaN           NaN          NaN   \n",
       "\n",
       "   Geo_AITSCE  Geo_AITS  Geo_ANRC  Geo_CBSA  Geo_CSA  Geo_METDIV  Geo_MACC  \\\n",
       "0         NaN       NaN       NaN       NaN      NaN         NaN       NaN   \n",
       "1         NaN       NaN       NaN       NaN      NaN         NaN       NaN   \n",
       "2         NaN       NaN       NaN       NaN      NaN         NaN       NaN   \n",
       "3         NaN       NaN       NaN       NaN      NaN         NaN       NaN   \n",
       "4         NaN       NaN       NaN       NaN      NaN         NaN       NaN   \n",
       "\n",
       "   Geo_MEMI  Geo_NECTA  Geo_CNECTA  Geo_NECTADIV  Geo_UA  Geo_UACP  \\\n",
       "0       NaN        NaN         NaN           NaN     NaN       NaN   \n",
       "1       NaN        NaN         NaN           NaN     NaN       NaN   \n",
       "2       NaN        NaN         NaN           NaN     NaN       NaN   \n",
       "3       NaN        NaN         NaN           NaN     NaN       NaN   \n",
       "4       NaN        NaN         NaN           NaN     NaN       NaN   \n",
       "\n",
       "   Geo_CDCURR  Geo_SLDU  Geo_SLDL  Geo_VTD  Geo_ZCTA3  Geo_ZCTA5  Geo_SUBMCD  \\\n",
       "0         NaN       NaN       NaN      NaN        NaN        NaN         NaN   \n",
       "1         NaN       NaN       NaN      NaN        NaN        NaN         NaN   \n",
       "2         NaN       NaN       NaN      NaN        NaN        NaN         NaN   \n",
       "3         NaN       NaN       NaN      NaN        NaN        NaN         NaN   \n",
       "4         NaN       NaN       NaN      NaN        NaN        NaN         NaN   \n",
       "\n",
       "   Geo_SDELM  Geo_SDSEC  Geo_SDUNI  Geo_UR  Geo_PCI  Geo_TAZ  Geo_UGA  \\\n",
       "0        NaN        NaN        NaN     NaN      NaN      NaN      NaN   \n",
       "1        NaN        NaN        NaN     NaN      NaN      NaN      NaN   \n",
       "2        NaN        NaN        NaN     NaN      NaN      NaN      NaN   \n",
       "3        NaN        NaN        NaN     NaN      NaN      NaN      NaN   \n",
       "4        NaN        NaN        NaN     NaN      NaN      NaN      NaN   \n",
       "\n",
       "   Geo_BTTR  Geo_BTBG  Geo_PUMA5  Geo_PUMA1  SE_A10060_001  SE_A10060_002  \\\n",
       "0       NaN       NaN        NaN        NaN            357            245   \n",
       "1       NaN       NaN        NaN        NaN            207             56   \n",
       "2       NaN       NaN        NaN        NaN            293             20   \n",
       "3       NaN       NaN        NaN        NaN            523            316   \n",
       "4       NaN       NaN        NaN        NaN            637             48   \n",
       "\n",
       "   SE_A10060_003  \n",
       "0            112  \n",
       "1            151  \n",
       "2            273  \n",
       "3            207  \n",
       "4            589  "
      ]
     },
     "execution_count": 69,
     "metadata": {},
     "output_type": "execute_result"
    }
   ],
   "source": [
    "df.head()"
   ]
  },
  {
   "cell_type": "markdown",
   "metadata": {},
   "source": [
    "## Overwriting default display settings \n",
    "By default, pandas outputs the first 10 and last 10 columns. If we want to see the entire table, we can override the defaults. Use with caution!"
   ]
  },
  {
   "cell_type": "code",
   "execution_count": 70,
   "metadata": {},
   "outputs": [],
   "source": [
    "# I want to see all the data\n",
    "pd.set_option('display.max_columns', None)\n",
    "pd.set_option('display.max_rows', None)"
   ]
  },
  {
   "cell_type": "code",
   "execution_count": 71,
   "metadata": {},
   "outputs": [
    {
     "data": {
      "text/html": [
       "<div>\n",
       "<style scoped>\n",
       "    .dataframe tbody tr th:only-of-type {\n",
       "        vertical-align: middle;\n",
       "    }\n",
       "\n",
       "    .dataframe tbody tr th {\n",
       "        vertical-align: top;\n",
       "    }\n",
       "\n",
       "    .dataframe thead th {\n",
       "        text-align: right;\n",
       "    }\n",
       "</style>\n",
       "<table border=\"1\" class=\"dataframe\">\n",
       "  <thead>\n",
       "    <tr style=\"text-align: right;\">\n",
       "      <th></th>\n",
       "      <th>Geo_FIPS</th>\n",
       "      <th>Geo_GEOID</th>\n",
       "      <th>Geo_NAME</th>\n",
       "      <th>Geo_QName</th>\n",
       "      <th>Geo_STUSAB</th>\n",
       "      <th>Geo_SUMLEV</th>\n",
       "      <th>Geo_GEOCOMP</th>\n",
       "      <th>Geo_FILEID</th>\n",
       "      <th>Geo_LOGRECNO</th>\n",
       "      <th>Geo_US</th>\n",
       "      <th>Geo_REGION</th>\n",
       "      <th>Geo_DIVISION</th>\n",
       "      <th>Geo_STATECE</th>\n",
       "      <th>Geo_STATE</th>\n",
       "      <th>Geo_COUNTY</th>\n",
       "      <th>Geo_COUSUB</th>\n",
       "      <th>Geo_PLACE</th>\n",
       "      <th>Geo_PLACESE</th>\n",
       "      <th>Geo_TRACT</th>\n",
       "      <th>Geo_BLKGRP</th>\n",
       "      <th>Geo_CONCIT</th>\n",
       "      <th>Geo_AIANHH</th>\n",
       "      <th>Geo_AIANHHFP</th>\n",
       "      <th>Geo_AIHHTLI</th>\n",
       "      <th>Geo_AITSCE</th>\n",
       "      <th>Geo_AITS</th>\n",
       "      <th>Geo_ANRC</th>\n",
       "      <th>Geo_CBSA</th>\n",
       "      <th>Geo_CSA</th>\n",
       "      <th>Geo_METDIV</th>\n",
       "      <th>Geo_MACC</th>\n",
       "      <th>Geo_MEMI</th>\n",
       "      <th>Geo_NECTA</th>\n",
       "      <th>Geo_CNECTA</th>\n",
       "      <th>Geo_NECTADIV</th>\n",
       "      <th>Geo_UA</th>\n",
       "      <th>Geo_UACP</th>\n",
       "      <th>Geo_CDCURR</th>\n",
       "      <th>Geo_SLDU</th>\n",
       "      <th>Geo_SLDL</th>\n",
       "      <th>Geo_VTD</th>\n",
       "      <th>Geo_ZCTA3</th>\n",
       "      <th>Geo_ZCTA5</th>\n",
       "      <th>Geo_SUBMCD</th>\n",
       "      <th>Geo_SDELM</th>\n",
       "      <th>Geo_SDSEC</th>\n",
       "      <th>Geo_SDUNI</th>\n",
       "      <th>Geo_UR</th>\n",
       "      <th>Geo_PCI</th>\n",
       "      <th>Geo_TAZ</th>\n",
       "      <th>Geo_UGA</th>\n",
       "      <th>Geo_BTTR</th>\n",
       "      <th>Geo_BTBG</th>\n",
       "      <th>Geo_PUMA5</th>\n",
       "      <th>Geo_PUMA1</th>\n",
       "      <th>SE_A10060_001</th>\n",
       "      <th>SE_A10060_002</th>\n",
       "      <th>SE_A10060_003</th>\n",
       "    </tr>\n",
       "  </thead>\n",
       "  <tbody>\n",
       "    <tr>\n",
       "      <th>15</th>\n",
       "      <td>60371883001</td>\n",
       "      <td>15000US060371883001</td>\n",
       "      <td>Block Group 1, Census Tract 1883, Los Angeles ...</td>\n",
       "      <td>Block Group 1, Census Tract 1883, Los Angeles ...</td>\n",
       "      <td>ca</td>\n",
       "      <td>150</td>\n",
       "      <td>0</td>\n",
       "      <td>ACSSF</td>\n",
       "      <td>15260</td>\n",
       "      <td>NaN</td>\n",
       "      <td>NaN</td>\n",
       "      <td>NaN</td>\n",
       "      <td>NaN</td>\n",
       "      <td>6</td>\n",
       "      <td>37</td>\n",
       "      <td>NaN</td>\n",
       "      <td>NaN</td>\n",
       "      <td>NaN</td>\n",
       "      <td>188300</td>\n",
       "      <td>1</td>\n",
       "      <td>NaN</td>\n",
       "      <td>NaN</td>\n",
       "      <td>NaN</td>\n",
       "      <td>NaN</td>\n",
       "      <td>NaN</td>\n",
       "      <td>NaN</td>\n",
       "      <td>NaN</td>\n",
       "      <td>NaN</td>\n",
       "      <td>NaN</td>\n",
       "      <td>NaN</td>\n",
       "      <td>NaN</td>\n",
       "      <td>NaN</td>\n",
       "      <td>NaN</td>\n",
       "      <td>NaN</td>\n",
       "      <td>NaN</td>\n",
       "      <td>NaN</td>\n",
       "      <td>NaN</td>\n",
       "      <td>NaN</td>\n",
       "      <td>NaN</td>\n",
       "      <td>NaN</td>\n",
       "      <td>NaN</td>\n",
       "      <td>NaN</td>\n",
       "      <td>NaN</td>\n",
       "      <td>NaN</td>\n",
       "      <td>NaN</td>\n",
       "      <td>NaN</td>\n",
       "      <td>NaN</td>\n",
       "      <td>NaN</td>\n",
       "      <td>NaN</td>\n",
       "      <td>NaN</td>\n",
       "      <td>NaN</td>\n",
       "      <td>NaN</td>\n",
       "      <td>NaN</td>\n",
       "      <td>NaN</td>\n",
       "      <td>NaN</td>\n",
       "      <td>455</td>\n",
       "      <td>184</td>\n",
       "      <td>271</td>\n",
       "    </tr>\n",
       "  </tbody>\n",
       "</table>\n",
       "</div>"
      ],
      "text/plain": [
       "       Geo_FIPS            Geo_GEOID  \\\n",
       "15  60371883001  15000US060371883001   \n",
       "\n",
       "                                             Geo_NAME  \\\n",
       "15  Block Group 1, Census Tract 1883, Los Angeles ...   \n",
       "\n",
       "                                            Geo_QName Geo_STUSAB  Geo_SUMLEV  \\\n",
       "15  Block Group 1, Census Tract 1883, Los Angeles ...         ca         150   \n",
       "\n",
       "    Geo_GEOCOMP Geo_FILEID  Geo_LOGRECNO  Geo_US  Geo_REGION  Geo_DIVISION  \\\n",
       "15            0      ACSSF         15260     NaN         NaN           NaN   \n",
       "\n",
       "    Geo_STATECE  Geo_STATE  Geo_COUNTY  Geo_COUSUB  Geo_PLACE  Geo_PLACESE  \\\n",
       "15          NaN          6          37         NaN        NaN          NaN   \n",
       "\n",
       "    Geo_TRACT  Geo_BLKGRP  Geo_CONCIT  Geo_AIANHH  Geo_AIANHHFP  Geo_AIHHTLI  \\\n",
       "15     188300           1         NaN         NaN           NaN          NaN   \n",
       "\n",
       "    Geo_AITSCE  Geo_AITS  Geo_ANRC  Geo_CBSA  Geo_CSA  Geo_METDIV  Geo_MACC  \\\n",
       "15         NaN       NaN       NaN       NaN      NaN         NaN       NaN   \n",
       "\n",
       "    Geo_MEMI  Geo_NECTA  Geo_CNECTA  Geo_NECTADIV  Geo_UA  Geo_UACP  \\\n",
       "15       NaN        NaN         NaN           NaN     NaN       NaN   \n",
       "\n",
       "    Geo_CDCURR  Geo_SLDU  Geo_SLDL  Geo_VTD  Geo_ZCTA3  Geo_ZCTA5  Geo_SUBMCD  \\\n",
       "15         NaN       NaN       NaN      NaN        NaN        NaN         NaN   \n",
       "\n",
       "    Geo_SDELM  Geo_SDSEC  Geo_SDUNI  Geo_UR  Geo_PCI  Geo_TAZ  Geo_UGA  \\\n",
       "15        NaN        NaN        NaN     NaN      NaN      NaN      NaN   \n",
       "\n",
       "    Geo_BTTR  Geo_BTBG  Geo_PUMA5  Geo_PUMA1  SE_A10060_001  SE_A10060_002  \\\n",
       "15       NaN       NaN        NaN        NaN            455            184   \n",
       "\n",
       "    SE_A10060_003  \n",
       "15            271  "
      ]
     },
     "execution_count": 71,
     "metadata": {},
     "output_type": "execute_result"
    }
   ],
   "source": [
    "df.sample()"
   ]
  },
  {
   "cell_type": "markdown",
   "metadata": {
    "slideshow": {
     "slide_type": "slide"
    }
   },
   "source": [
    "## Data types\n",
    "\n",
    "To get the data types, we will use `.info()`. Notice the new arguments within: `verbose=True, null_counts=True`. This is necessary because our data has so many columns."
   ]
  },
  {
   "cell_type": "code",
   "execution_count": 72,
   "metadata": {
    "scrolled": true
   },
   "outputs": [
    {
     "name": "stdout",
     "output_type": "stream",
     "text": [
      "<class 'pandas.core.frame.DataFrame'>\n",
      "RangeIndex: 18 entries, 0 to 17\n",
      "Data columns (total 58 columns):\n",
      " #   Column         Non-Null Count  Dtype  \n",
      "---  ------         --------------  -----  \n",
      " 0   Geo_FIPS       18 non-null     int64  \n",
      " 1   Geo_GEOID      18 non-null     object \n",
      " 2   Geo_NAME       18 non-null     object \n",
      " 3   Geo_QName      18 non-null     object \n",
      " 4   Geo_STUSAB     18 non-null     object \n",
      " 5   Geo_SUMLEV     18 non-null     int64  \n",
      " 6   Geo_GEOCOMP    18 non-null     int64  \n",
      " 7   Geo_FILEID     18 non-null     object \n",
      " 8   Geo_LOGRECNO   18 non-null     int64  \n",
      " 9   Geo_US         0 non-null      float64\n",
      " 10  Geo_REGION     0 non-null      float64\n",
      " 11  Geo_DIVISION   0 non-null      float64\n",
      " 12  Geo_STATECE    0 non-null      float64\n",
      " 13  Geo_STATE      18 non-null     int64  \n",
      " 14  Geo_COUNTY     18 non-null     int64  \n",
      " 15  Geo_COUSUB     0 non-null      float64\n",
      " 16  Geo_PLACE      0 non-null      float64\n",
      " 17  Geo_PLACESE    0 non-null      float64\n",
      " 18  Geo_TRACT      18 non-null     int64  \n",
      " 19  Geo_BLKGRP     18 non-null     int64  \n",
      " 20  Geo_CONCIT     0 non-null      float64\n",
      " 21  Geo_AIANHH     0 non-null      float64\n",
      " 22  Geo_AIANHHFP   0 non-null      float64\n",
      " 23  Geo_AIHHTLI    0 non-null      float64\n",
      " 24  Geo_AITSCE     0 non-null      float64\n",
      " 25  Geo_AITS       0 non-null      float64\n",
      " 26  Geo_ANRC       0 non-null      float64\n",
      " 27  Geo_CBSA       0 non-null      float64\n",
      " 28  Geo_CSA        0 non-null      float64\n",
      " 29  Geo_METDIV     0 non-null      float64\n",
      " 30  Geo_MACC       0 non-null      float64\n",
      " 31  Geo_MEMI       0 non-null      float64\n",
      " 32  Geo_NECTA      0 non-null      float64\n",
      " 33  Geo_CNECTA     0 non-null      float64\n",
      " 34  Geo_NECTADIV   0 non-null      float64\n",
      " 35  Geo_UA         0 non-null      float64\n",
      " 36  Geo_UACP       0 non-null      float64\n",
      " 37  Geo_CDCURR     0 non-null      float64\n",
      " 38  Geo_SLDU       0 non-null      float64\n",
      " 39  Geo_SLDL       0 non-null      float64\n",
      " 40  Geo_VTD        0 non-null      float64\n",
      " 41  Geo_ZCTA3      0 non-null      float64\n",
      " 42  Geo_ZCTA5      0 non-null      float64\n",
      " 43  Geo_SUBMCD     0 non-null      float64\n",
      " 44  Geo_SDELM      0 non-null      float64\n",
      " 45  Geo_SDSEC      0 non-null      float64\n",
      " 46  Geo_SDUNI      0 non-null      float64\n",
      " 47  Geo_UR         0 non-null      float64\n",
      " 48  Geo_PCI        0 non-null      float64\n",
      " 49  Geo_TAZ        0 non-null      float64\n",
      " 50  Geo_UGA        0 non-null      float64\n",
      " 51  Geo_BTTR       0 non-null      float64\n",
      " 52  Geo_BTBG       0 non-null      float64\n",
      " 53  Geo_PUMA5      0 non-null      float64\n",
      " 54  Geo_PUMA1      0 non-null      float64\n",
      " 55  SE_A10060_001  18 non-null     int64  \n",
      " 56  SE_A10060_002  18 non-null     int64  \n",
      " 57  SE_A10060_003  18 non-null     int64  \n",
      "dtypes: float64(42), int64(11), object(5)\n",
      "memory usage: 8.3+ KB\n"
     ]
    }
   ],
   "source": [
    "# look at the data types\n",
    "df.info(verbose=True, null_counts=True)"
   ]
  },
  {
   "cell_type": "markdown",
   "metadata": {
    "slideshow": {
     "slide_type": "slide"
    }
   },
   "source": [
    "## Assigning data types on import\n",
    "\n",
    "Let's take a closer look at the column that will become our unique identifier, `Geo_FIPS`."
   ]
  },
  {
   "cell_type": "code",
   "execution_count": 73,
   "metadata": {},
   "outputs": [
    {
     "data": {
      "text/plain": [
       "0    60371863011\n",
       "1    60371863012\n",
       "2    60371863013\n",
       "3    60371863021\n",
       "4    60371864011\n",
       "Name: Geo_FIPS, dtype: int64"
      ]
     },
     "execution_count": 73,
     "metadata": {},
     "output_type": "execute_result"
    }
   ],
   "source": [
    "df.Geo_FIPS.head()"
   ]
  },
  {
   "cell_type": "markdown",
   "metadata": {
    "slideshow": {
     "slide_type": "slide"
    }
   },
   "source": [
    "### The leading zero dilemma...\n",
    "Waaaaaiiit... what happened to the leading \"0\" in the `Geo_FIPS` code? And for that matter, the `geo_STATE` and `geo_COUNTY` columns?"
   ]
  },
  {
   "cell_type": "code",
   "execution_count": 74,
   "metadata": {
    "slideshow": {
     "slide_type": "fragment"
    }
   },
   "outputs": [
    {
     "data": {
      "text/plain": [
       "0    6\n",
       "1    6\n",
       "2    6\n",
       "3    6\n",
       "4    6\n",
       "Name: Geo_STATE, dtype: int64"
      ]
     },
     "execution_count": 74,
     "metadata": {},
     "output_type": "execute_result"
    }
   ],
   "source": [
    "df.Geo_STATE.head()"
   ]
  },
  {
   "cell_type": "code",
   "execution_count": 75,
   "metadata": {
    "slideshow": {
     "slide_type": "fragment"
    }
   },
   "outputs": [
    {
     "data": {
      "text/plain": [
       "0    37\n",
       "1    37\n",
       "2    37\n",
       "3    37\n",
       "4    37\n",
       "Name: Geo_COUNTY, dtype: int64"
      ]
     },
     "execution_count": 75,
     "metadata": {},
     "output_type": "execute_result"
    }
   ],
   "source": [
    "df.Geo_COUNTY.head()"
   ]
  },
  {
   "cell_type": "markdown",
   "metadata": {
    "slideshow": {
     "slide_type": "slide"
    }
   },
   "source": [
    "### The FIPS code\n",
    "But what is a FIPS code and why is it important?\n",
    "\n",
    "![fips](images/fips.png)"
   ]
  },
  {
   "cell_type": "markdown",
   "metadata": {
    "slideshow": {
     "slide_type": "slide"
    }
   },
   "source": [
    "![fips code](https://learn.arcgis.com/en/related-concepts/GUID-D7AA4FD1-E7FE-49D7-9D11-07915C9ACC68-web.png)\n",
    "\n",
    "[Source: ESRI](https://learn.arcgis.com/en/related-concepts/united-states-census-geography.htm)"
   ]
  },
  {
   "cell_type": "markdown",
   "metadata": {
    "slideshow": {
     "slide_type": "slide"
    }
   },
   "source": [
    "That's right, python automatically makes decisions on import, and interprets \"FIPS\" as an integer column (after all, it's all numbers aren't they), thus cropping the leading zeroes. But no, that [leading zero](https://en.wikipedia.org/wiki/Leading_zero) is extremely important, as `06` represents the state of California, and `037` represents LA County. \n",
    "\n",
    "Let's fix this by re-importing the data, this time, specifying the `FIPS` columns as a string:"
   ]
  },
  {
   "cell_type": "code",
   "execution_count": 76,
   "metadata": {
    "slideshow": {
     "slide_type": "fragment"
    }
   },
   "outputs": [],
   "source": [
    "df = pd.read_csv(\n",
    "    'data/AtwaterACS2013RenterVOwnerOccupied.csv',\n",
    "    dtype=\n",
    "    {\n",
    "        'Geo_FIPS':str,\n",
    "        'Geo_STATE':str,\n",
    "        'Geo_COUNTY': str\n",
    "    }\n",
    ")"
   ]
  },
  {
   "cell_type": "code",
   "execution_count": 77,
   "metadata": {
    "slideshow": {
     "slide_type": "slide"
    }
   },
   "outputs": [
    {
     "data": {
      "text/html": [
       "<div>\n",
       "<style scoped>\n",
       "    .dataframe tbody tr th:only-of-type {\n",
       "        vertical-align: middle;\n",
       "    }\n",
       "\n",
       "    .dataframe tbody tr th {\n",
       "        vertical-align: top;\n",
       "    }\n",
       "\n",
       "    .dataframe thead th {\n",
       "        text-align: right;\n",
       "    }\n",
       "</style>\n",
       "<table border=\"1\" class=\"dataframe\">\n",
       "  <thead>\n",
       "    <tr style=\"text-align: right;\">\n",
       "      <th></th>\n",
       "      <th>Geo_FIPS</th>\n",
       "      <th>Geo_GEOID</th>\n",
       "      <th>Geo_NAME</th>\n",
       "      <th>Geo_QName</th>\n",
       "      <th>Geo_STUSAB</th>\n",
       "      <th>Geo_SUMLEV</th>\n",
       "      <th>Geo_GEOCOMP</th>\n",
       "      <th>Geo_FILEID</th>\n",
       "      <th>Geo_LOGRECNO</th>\n",
       "      <th>Geo_US</th>\n",
       "      <th>Geo_REGION</th>\n",
       "      <th>Geo_DIVISION</th>\n",
       "      <th>Geo_STATECE</th>\n",
       "      <th>Geo_STATE</th>\n",
       "      <th>Geo_COUNTY</th>\n",
       "      <th>Geo_COUSUB</th>\n",
       "      <th>Geo_PLACE</th>\n",
       "      <th>Geo_PLACESE</th>\n",
       "      <th>Geo_TRACT</th>\n",
       "      <th>Geo_BLKGRP</th>\n",
       "      <th>Geo_CONCIT</th>\n",
       "      <th>Geo_AIANHH</th>\n",
       "      <th>Geo_AIANHHFP</th>\n",
       "      <th>Geo_AIHHTLI</th>\n",
       "      <th>Geo_AITSCE</th>\n",
       "      <th>Geo_AITS</th>\n",
       "      <th>Geo_ANRC</th>\n",
       "      <th>Geo_CBSA</th>\n",
       "      <th>Geo_CSA</th>\n",
       "      <th>Geo_METDIV</th>\n",
       "      <th>Geo_MACC</th>\n",
       "      <th>Geo_MEMI</th>\n",
       "      <th>Geo_NECTA</th>\n",
       "      <th>Geo_CNECTA</th>\n",
       "      <th>Geo_NECTADIV</th>\n",
       "      <th>Geo_UA</th>\n",
       "      <th>Geo_UACP</th>\n",
       "      <th>Geo_CDCURR</th>\n",
       "      <th>Geo_SLDU</th>\n",
       "      <th>Geo_SLDL</th>\n",
       "      <th>Geo_VTD</th>\n",
       "      <th>Geo_ZCTA3</th>\n",
       "      <th>Geo_ZCTA5</th>\n",
       "      <th>Geo_SUBMCD</th>\n",
       "      <th>Geo_SDELM</th>\n",
       "      <th>Geo_SDSEC</th>\n",
       "      <th>Geo_SDUNI</th>\n",
       "      <th>Geo_UR</th>\n",
       "      <th>Geo_PCI</th>\n",
       "      <th>Geo_TAZ</th>\n",
       "      <th>Geo_UGA</th>\n",
       "      <th>Geo_BTTR</th>\n",
       "      <th>Geo_BTBG</th>\n",
       "      <th>Geo_PUMA5</th>\n",
       "      <th>Geo_PUMA1</th>\n",
       "      <th>SE_A10060_001</th>\n",
       "      <th>SE_A10060_002</th>\n",
       "      <th>SE_A10060_003</th>\n",
       "    </tr>\n",
       "  </thead>\n",
       "  <tbody>\n",
       "    <tr>\n",
       "      <th>0</th>\n",
       "      <td>060371863011</td>\n",
       "      <td>15000US060371863011</td>\n",
       "      <td>Block Group 1, Census Tract 1863.01, Los Angel...</td>\n",
       "      <td>Block Group 1, Census Tract 1863.01, Los Angel...</td>\n",
       "      <td>ca</td>\n",
       "      <td>150</td>\n",
       "      <td>0</td>\n",
       "      <td>ACSSF</td>\n",
       "      <td>15231</td>\n",
       "      <td>NaN</td>\n",
       "      <td>NaN</td>\n",
       "      <td>NaN</td>\n",
       "      <td>NaN</td>\n",
       "      <td>06</td>\n",
       "      <td>037</td>\n",
       "      <td>NaN</td>\n",
       "      <td>NaN</td>\n",
       "      <td>NaN</td>\n",
       "      <td>186301</td>\n",
       "      <td>1</td>\n",
       "      <td>NaN</td>\n",
       "      <td>NaN</td>\n",
       "      <td>NaN</td>\n",
       "      <td>NaN</td>\n",
       "      <td>NaN</td>\n",
       "      <td>NaN</td>\n",
       "      <td>NaN</td>\n",
       "      <td>NaN</td>\n",
       "      <td>NaN</td>\n",
       "      <td>NaN</td>\n",
       "      <td>NaN</td>\n",
       "      <td>NaN</td>\n",
       "      <td>NaN</td>\n",
       "      <td>NaN</td>\n",
       "      <td>NaN</td>\n",
       "      <td>NaN</td>\n",
       "      <td>NaN</td>\n",
       "      <td>NaN</td>\n",
       "      <td>NaN</td>\n",
       "      <td>NaN</td>\n",
       "      <td>NaN</td>\n",
       "      <td>NaN</td>\n",
       "      <td>NaN</td>\n",
       "      <td>NaN</td>\n",
       "      <td>NaN</td>\n",
       "      <td>NaN</td>\n",
       "      <td>NaN</td>\n",
       "      <td>NaN</td>\n",
       "      <td>NaN</td>\n",
       "      <td>NaN</td>\n",
       "      <td>NaN</td>\n",
       "      <td>NaN</td>\n",
       "      <td>NaN</td>\n",
       "      <td>NaN</td>\n",
       "      <td>NaN</td>\n",
       "      <td>357</td>\n",
       "      <td>245</td>\n",
       "      <td>112</td>\n",
       "    </tr>\n",
       "    <tr>\n",
       "      <th>1</th>\n",
       "      <td>060371863012</td>\n",
       "      <td>15000US060371863012</td>\n",
       "      <td>Block Group 2, Census Tract 1863.01, Los Angel...</td>\n",
       "      <td>Block Group 2, Census Tract 1863.01, Los Angel...</td>\n",
       "      <td>ca</td>\n",
       "      <td>150</td>\n",
       "      <td>0</td>\n",
       "      <td>ACSSF</td>\n",
       "      <td>15232</td>\n",
       "      <td>NaN</td>\n",
       "      <td>NaN</td>\n",
       "      <td>NaN</td>\n",
       "      <td>NaN</td>\n",
       "      <td>06</td>\n",
       "      <td>037</td>\n",
       "      <td>NaN</td>\n",
       "      <td>NaN</td>\n",
       "      <td>NaN</td>\n",
       "      <td>186301</td>\n",
       "      <td>2</td>\n",
       "      <td>NaN</td>\n",
       "      <td>NaN</td>\n",
       "      <td>NaN</td>\n",
       "      <td>NaN</td>\n",
       "      <td>NaN</td>\n",
       "      <td>NaN</td>\n",
       "      <td>NaN</td>\n",
       "      <td>NaN</td>\n",
       "      <td>NaN</td>\n",
       "      <td>NaN</td>\n",
       "      <td>NaN</td>\n",
       "      <td>NaN</td>\n",
       "      <td>NaN</td>\n",
       "      <td>NaN</td>\n",
       "      <td>NaN</td>\n",
       "      <td>NaN</td>\n",
       "      <td>NaN</td>\n",
       "      <td>NaN</td>\n",
       "      <td>NaN</td>\n",
       "      <td>NaN</td>\n",
       "      <td>NaN</td>\n",
       "      <td>NaN</td>\n",
       "      <td>NaN</td>\n",
       "      <td>NaN</td>\n",
       "      <td>NaN</td>\n",
       "      <td>NaN</td>\n",
       "      <td>NaN</td>\n",
       "      <td>NaN</td>\n",
       "      <td>NaN</td>\n",
       "      <td>NaN</td>\n",
       "      <td>NaN</td>\n",
       "      <td>NaN</td>\n",
       "      <td>NaN</td>\n",
       "      <td>NaN</td>\n",
       "      <td>NaN</td>\n",
       "      <td>207</td>\n",
       "      <td>56</td>\n",
       "      <td>151</td>\n",
       "    </tr>\n",
       "    <tr>\n",
       "      <th>2</th>\n",
       "      <td>060371863013</td>\n",
       "      <td>15000US060371863013</td>\n",
       "      <td>Block Group 3, Census Tract 1863.01, Los Angel...</td>\n",
       "      <td>Block Group 3, Census Tract 1863.01, Los Angel...</td>\n",
       "      <td>ca</td>\n",
       "      <td>150</td>\n",
       "      <td>0</td>\n",
       "      <td>ACSSF</td>\n",
       "      <td>15233</td>\n",
       "      <td>NaN</td>\n",
       "      <td>NaN</td>\n",
       "      <td>NaN</td>\n",
       "      <td>NaN</td>\n",
       "      <td>06</td>\n",
       "      <td>037</td>\n",
       "      <td>NaN</td>\n",
       "      <td>NaN</td>\n",
       "      <td>NaN</td>\n",
       "      <td>186301</td>\n",
       "      <td>3</td>\n",
       "      <td>NaN</td>\n",
       "      <td>NaN</td>\n",
       "      <td>NaN</td>\n",
       "      <td>NaN</td>\n",
       "      <td>NaN</td>\n",
       "      <td>NaN</td>\n",
       "      <td>NaN</td>\n",
       "      <td>NaN</td>\n",
       "      <td>NaN</td>\n",
       "      <td>NaN</td>\n",
       "      <td>NaN</td>\n",
       "      <td>NaN</td>\n",
       "      <td>NaN</td>\n",
       "      <td>NaN</td>\n",
       "      <td>NaN</td>\n",
       "      <td>NaN</td>\n",
       "      <td>NaN</td>\n",
       "      <td>NaN</td>\n",
       "      <td>NaN</td>\n",
       "      <td>NaN</td>\n",
       "      <td>NaN</td>\n",
       "      <td>NaN</td>\n",
       "      <td>NaN</td>\n",
       "      <td>NaN</td>\n",
       "      <td>NaN</td>\n",
       "      <td>NaN</td>\n",
       "      <td>NaN</td>\n",
       "      <td>NaN</td>\n",
       "      <td>NaN</td>\n",
       "      <td>NaN</td>\n",
       "      <td>NaN</td>\n",
       "      <td>NaN</td>\n",
       "      <td>NaN</td>\n",
       "      <td>NaN</td>\n",
       "      <td>NaN</td>\n",
       "      <td>293</td>\n",
       "      <td>20</td>\n",
       "      <td>273</td>\n",
       "    </tr>\n",
       "    <tr>\n",
       "      <th>3</th>\n",
       "      <td>060371863021</td>\n",
       "      <td>15000US060371863021</td>\n",
       "      <td>Block Group 1, Census Tract 1863.02, Los Angel...</td>\n",
       "      <td>Block Group 1, Census Tract 1863.02, Los Angel...</td>\n",
       "      <td>ca</td>\n",
       "      <td>150</td>\n",
       "      <td>0</td>\n",
       "      <td>ACSSF</td>\n",
       "      <td>15234</td>\n",
       "      <td>NaN</td>\n",
       "      <td>NaN</td>\n",
       "      <td>NaN</td>\n",
       "      <td>NaN</td>\n",
       "      <td>06</td>\n",
       "      <td>037</td>\n",
       "      <td>NaN</td>\n",
       "      <td>NaN</td>\n",
       "      <td>NaN</td>\n",
       "      <td>186302</td>\n",
       "      <td>1</td>\n",
       "      <td>NaN</td>\n",
       "      <td>NaN</td>\n",
       "      <td>NaN</td>\n",
       "      <td>NaN</td>\n",
       "      <td>NaN</td>\n",
       "      <td>NaN</td>\n",
       "      <td>NaN</td>\n",
       "      <td>NaN</td>\n",
       "      <td>NaN</td>\n",
       "      <td>NaN</td>\n",
       "      <td>NaN</td>\n",
       "      <td>NaN</td>\n",
       "      <td>NaN</td>\n",
       "      <td>NaN</td>\n",
       "      <td>NaN</td>\n",
       "      <td>NaN</td>\n",
       "      <td>NaN</td>\n",
       "      <td>NaN</td>\n",
       "      <td>NaN</td>\n",
       "      <td>NaN</td>\n",
       "      <td>NaN</td>\n",
       "      <td>NaN</td>\n",
       "      <td>NaN</td>\n",
       "      <td>NaN</td>\n",
       "      <td>NaN</td>\n",
       "      <td>NaN</td>\n",
       "      <td>NaN</td>\n",
       "      <td>NaN</td>\n",
       "      <td>NaN</td>\n",
       "      <td>NaN</td>\n",
       "      <td>NaN</td>\n",
       "      <td>NaN</td>\n",
       "      <td>NaN</td>\n",
       "      <td>NaN</td>\n",
       "      <td>NaN</td>\n",
       "      <td>523</td>\n",
       "      <td>316</td>\n",
       "      <td>207</td>\n",
       "    </tr>\n",
       "    <tr>\n",
       "      <th>4</th>\n",
       "      <td>060371864011</td>\n",
       "      <td>15000US060371864011</td>\n",
       "      <td>Block Group 1, Census Tract 1864.01, Los Angel...</td>\n",
       "      <td>Block Group 1, Census Tract 1864.01, Los Angel...</td>\n",
       "      <td>ca</td>\n",
       "      <td>150</td>\n",
       "      <td>0</td>\n",
       "      <td>ACSSF</td>\n",
       "      <td>15237</td>\n",
       "      <td>NaN</td>\n",
       "      <td>NaN</td>\n",
       "      <td>NaN</td>\n",
       "      <td>NaN</td>\n",
       "      <td>06</td>\n",
       "      <td>037</td>\n",
       "      <td>NaN</td>\n",
       "      <td>NaN</td>\n",
       "      <td>NaN</td>\n",
       "      <td>186401</td>\n",
       "      <td>1</td>\n",
       "      <td>NaN</td>\n",
       "      <td>NaN</td>\n",
       "      <td>NaN</td>\n",
       "      <td>NaN</td>\n",
       "      <td>NaN</td>\n",
       "      <td>NaN</td>\n",
       "      <td>NaN</td>\n",
       "      <td>NaN</td>\n",
       "      <td>NaN</td>\n",
       "      <td>NaN</td>\n",
       "      <td>NaN</td>\n",
       "      <td>NaN</td>\n",
       "      <td>NaN</td>\n",
       "      <td>NaN</td>\n",
       "      <td>NaN</td>\n",
       "      <td>NaN</td>\n",
       "      <td>NaN</td>\n",
       "      <td>NaN</td>\n",
       "      <td>NaN</td>\n",
       "      <td>NaN</td>\n",
       "      <td>NaN</td>\n",
       "      <td>NaN</td>\n",
       "      <td>NaN</td>\n",
       "      <td>NaN</td>\n",
       "      <td>NaN</td>\n",
       "      <td>NaN</td>\n",
       "      <td>NaN</td>\n",
       "      <td>NaN</td>\n",
       "      <td>NaN</td>\n",
       "      <td>NaN</td>\n",
       "      <td>NaN</td>\n",
       "      <td>NaN</td>\n",
       "      <td>NaN</td>\n",
       "      <td>NaN</td>\n",
       "      <td>NaN</td>\n",
       "      <td>637</td>\n",
       "      <td>48</td>\n",
       "      <td>589</td>\n",
       "    </tr>\n",
       "  </tbody>\n",
       "</table>\n",
       "</div>"
      ],
      "text/plain": [
       "       Geo_FIPS            Geo_GEOID  \\\n",
       "0  060371863011  15000US060371863011   \n",
       "1  060371863012  15000US060371863012   \n",
       "2  060371863013  15000US060371863013   \n",
       "3  060371863021  15000US060371863021   \n",
       "4  060371864011  15000US060371864011   \n",
       "\n",
       "                                            Geo_NAME  \\\n",
       "0  Block Group 1, Census Tract 1863.01, Los Angel...   \n",
       "1  Block Group 2, Census Tract 1863.01, Los Angel...   \n",
       "2  Block Group 3, Census Tract 1863.01, Los Angel...   \n",
       "3  Block Group 1, Census Tract 1863.02, Los Angel...   \n",
       "4  Block Group 1, Census Tract 1864.01, Los Angel...   \n",
       "\n",
       "                                           Geo_QName Geo_STUSAB  Geo_SUMLEV  \\\n",
       "0  Block Group 1, Census Tract 1863.01, Los Angel...         ca         150   \n",
       "1  Block Group 2, Census Tract 1863.01, Los Angel...         ca         150   \n",
       "2  Block Group 3, Census Tract 1863.01, Los Angel...         ca         150   \n",
       "3  Block Group 1, Census Tract 1863.02, Los Angel...         ca         150   \n",
       "4  Block Group 1, Census Tract 1864.01, Los Angel...         ca         150   \n",
       "\n",
       "   Geo_GEOCOMP Geo_FILEID  Geo_LOGRECNO  Geo_US  Geo_REGION  Geo_DIVISION  \\\n",
       "0            0      ACSSF         15231     NaN         NaN           NaN   \n",
       "1            0      ACSSF         15232     NaN         NaN           NaN   \n",
       "2            0      ACSSF         15233     NaN         NaN           NaN   \n",
       "3            0      ACSSF         15234     NaN         NaN           NaN   \n",
       "4            0      ACSSF         15237     NaN         NaN           NaN   \n",
       "\n",
       "   Geo_STATECE Geo_STATE Geo_COUNTY  Geo_COUSUB  Geo_PLACE  Geo_PLACESE  \\\n",
       "0          NaN        06        037         NaN        NaN          NaN   \n",
       "1          NaN        06        037         NaN        NaN          NaN   \n",
       "2          NaN        06        037         NaN        NaN          NaN   \n",
       "3          NaN        06        037         NaN        NaN          NaN   \n",
       "4          NaN        06        037         NaN        NaN          NaN   \n",
       "\n",
       "   Geo_TRACT  Geo_BLKGRP  Geo_CONCIT  Geo_AIANHH  Geo_AIANHHFP  Geo_AIHHTLI  \\\n",
       "0     186301           1         NaN         NaN           NaN          NaN   \n",
       "1     186301           2         NaN         NaN           NaN          NaN   \n",
       "2     186301           3         NaN         NaN           NaN          NaN   \n",
       "3     186302           1         NaN         NaN           NaN          NaN   \n",
       "4     186401           1         NaN         NaN           NaN          NaN   \n",
       "\n",
       "   Geo_AITSCE  Geo_AITS  Geo_ANRC  Geo_CBSA  Geo_CSA  Geo_METDIV  Geo_MACC  \\\n",
       "0         NaN       NaN       NaN       NaN      NaN         NaN       NaN   \n",
       "1         NaN       NaN       NaN       NaN      NaN         NaN       NaN   \n",
       "2         NaN       NaN       NaN       NaN      NaN         NaN       NaN   \n",
       "3         NaN       NaN       NaN       NaN      NaN         NaN       NaN   \n",
       "4         NaN       NaN       NaN       NaN      NaN         NaN       NaN   \n",
       "\n",
       "   Geo_MEMI  Geo_NECTA  Geo_CNECTA  Geo_NECTADIV  Geo_UA  Geo_UACP  \\\n",
       "0       NaN        NaN         NaN           NaN     NaN       NaN   \n",
       "1       NaN        NaN         NaN           NaN     NaN       NaN   \n",
       "2       NaN        NaN         NaN           NaN     NaN       NaN   \n",
       "3       NaN        NaN         NaN           NaN     NaN       NaN   \n",
       "4       NaN        NaN         NaN           NaN     NaN       NaN   \n",
       "\n",
       "   Geo_CDCURR  Geo_SLDU  Geo_SLDL  Geo_VTD  Geo_ZCTA3  Geo_ZCTA5  Geo_SUBMCD  \\\n",
       "0         NaN       NaN       NaN      NaN        NaN        NaN         NaN   \n",
       "1         NaN       NaN       NaN      NaN        NaN        NaN         NaN   \n",
       "2         NaN       NaN       NaN      NaN        NaN        NaN         NaN   \n",
       "3         NaN       NaN       NaN      NaN        NaN        NaN         NaN   \n",
       "4         NaN       NaN       NaN      NaN        NaN        NaN         NaN   \n",
       "\n",
       "   Geo_SDELM  Geo_SDSEC  Geo_SDUNI  Geo_UR  Geo_PCI  Geo_TAZ  Geo_UGA  \\\n",
       "0        NaN        NaN        NaN     NaN      NaN      NaN      NaN   \n",
       "1        NaN        NaN        NaN     NaN      NaN      NaN      NaN   \n",
       "2        NaN        NaN        NaN     NaN      NaN      NaN      NaN   \n",
       "3        NaN        NaN        NaN     NaN      NaN      NaN      NaN   \n",
       "4        NaN        NaN        NaN     NaN      NaN      NaN      NaN   \n",
       "\n",
       "   Geo_BTTR  Geo_BTBG  Geo_PUMA5  Geo_PUMA1  SE_A10060_001  SE_A10060_002  \\\n",
       "0       NaN       NaN        NaN        NaN            357            245   \n",
       "1       NaN       NaN        NaN        NaN            207             56   \n",
       "2       NaN       NaN        NaN        NaN            293             20   \n",
       "3       NaN       NaN        NaN        NaN            523            316   \n",
       "4       NaN       NaN        NaN        NaN            637             48   \n",
       "\n",
       "   SE_A10060_003  \n",
       "0            112  \n",
       "1            151  \n",
       "2            273  \n",
       "3            207  \n",
       "4            589  "
      ]
     },
     "execution_count": 77,
     "metadata": {},
     "output_type": "execute_result"
    }
   ],
   "source": [
    "# now look at the data again\n",
    "df.head()"
   ]
  },
  {
   "cell_type": "markdown",
   "metadata": {
    "slideshow": {
     "slide_type": "slide"
    }
   },
   "source": [
    "Confirm that your new dataframe has the correct datatypes."
   ]
  },
  {
   "cell_type": "code",
   "execution_count": 80,
   "metadata": {
    "scrolled": true
   },
   "outputs": [
    {
     "name": "stdout",
     "output_type": "stream",
     "text": [
      "<class 'pandas.core.frame.DataFrame'>\n",
      "RangeIndex: 18 entries, 0 to 17\n",
      "Data columns (total 58 columns):\n",
      " #   Column         Non-Null Count  Dtype  \n",
      "---  ------         --------------  -----  \n",
      " 0   Geo_FIPS       18 non-null     object \n",
      " 1   Geo_GEOID      18 non-null     object \n",
      " 2   Geo_NAME       18 non-null     object \n",
      " 3   Geo_QName      18 non-null     object \n",
      " 4   Geo_STUSAB     18 non-null     object \n",
      " 5   Geo_SUMLEV     18 non-null     int64  \n",
      " 6   Geo_GEOCOMP    18 non-null     int64  \n",
      " 7   Geo_FILEID     18 non-null     object \n",
      " 8   Geo_LOGRECNO   18 non-null     int64  \n",
      " 9   Geo_US         0 non-null      float64\n",
      " 10  Geo_REGION     0 non-null      float64\n",
      " 11  Geo_DIVISION   0 non-null      float64\n",
      " 12  Geo_STATECE    0 non-null      float64\n",
      " 13  Geo_STATE      18 non-null     object \n",
      " 14  Geo_COUNTY     18 non-null     object \n",
      " 15  Geo_COUSUB     0 non-null      float64\n",
      " 16  Geo_PLACE      0 non-null      float64\n",
      " 17  Geo_PLACESE    0 non-null      float64\n",
      " 18  Geo_TRACT      18 non-null     int64  \n",
      " 19  Geo_BLKGRP     18 non-null     int64  \n",
      " 20  Geo_CONCIT     0 non-null      float64\n",
      " 21  Geo_AIANHH     0 non-null      float64\n",
      " 22  Geo_AIANHHFP   0 non-null      float64\n",
      " 23  Geo_AIHHTLI    0 non-null      float64\n",
      " 24  Geo_AITSCE     0 non-null      float64\n",
      " 25  Geo_AITS       0 non-null      float64\n",
      " 26  Geo_ANRC       0 non-null      float64\n",
      " 27  Geo_CBSA       0 non-null      float64\n",
      " 28  Geo_CSA        0 non-null      float64\n",
      " 29  Geo_METDIV     0 non-null      float64\n",
      " 30  Geo_MACC       0 non-null      float64\n",
      " 31  Geo_MEMI       0 non-null      float64\n",
      " 32  Geo_NECTA      0 non-null      float64\n",
      " 33  Geo_CNECTA     0 non-null      float64\n",
      " 34  Geo_NECTADIV   0 non-null      float64\n",
      " 35  Geo_UA         0 non-null      float64\n",
      " 36  Geo_UACP       0 non-null      float64\n",
      " 37  Geo_CDCURR     0 non-null      float64\n",
      " 38  Geo_SLDU       0 non-null      float64\n",
      " 39  Geo_SLDL       0 non-null      float64\n",
      " 40  Geo_VTD        0 non-null      float64\n",
      " 41  Geo_ZCTA3      0 non-null      float64\n",
      " 42  Geo_ZCTA5      0 non-null      float64\n",
      " 43  Geo_SUBMCD     0 non-null      float64\n",
      " 44  Geo_SDELM      0 non-null      float64\n",
      " 45  Geo_SDSEC      0 non-null      float64\n",
      " 46  Geo_SDUNI      0 non-null      float64\n",
      " 47  Geo_UR         0 non-null      float64\n",
      " 48  Geo_PCI        0 non-null      float64\n",
      " 49  Geo_TAZ        0 non-null      float64\n",
      " 50  Geo_UGA        0 non-null      float64\n",
      " 51  Geo_BTTR       0 non-null      float64\n",
      " 52  Geo_BTBG       0 non-null      float64\n",
      " 53  Geo_PUMA5      0 non-null      float64\n",
      " 54  Geo_PUMA1      0 non-null      float64\n",
      " 55  SE_A10060_001  18 non-null     int64  \n",
      " 56  SE_A10060_002  18 non-null     int64  \n",
      " 57  SE_A10060_003  18 non-null     int64  \n",
      "dtypes: float64(42), int64(8), object(8)\n",
      "memory usage: 8.3+ KB\n"
     ]
    }
   ],
   "source": [
    "df.info(verbose=True, null_counts=True)"
   ]
  },
  {
   "cell_type": "markdown",
   "metadata": {
    "slideshow": {
     "slide_type": "slide"
    }
   },
   "source": [
    "<div class=\"alert alert-danger\">\n",
    "    \n",
    "The [leading zero dilemma](https://en.wikipedia.org/wiki/Leading_zero) is a known enigma in GIS and data integration. Even ESRI has yet to find a clean solution to this problem, forcing users into resorting to [weird hacks](https://support.esri.com/en/technical-article/000013035) to circumvent this problem. Python and pandas actually gives us a \"clean-ish\" solution that makes logical sense... doesn't it?\n",
    "    \n",
    "</div>"
   ]
  },
  {
   "cell_type": "markdown",
   "metadata": {
    "slideshow": {
     "slide_type": "slide"
    }
   },
   "source": [
    "## Drop/Delete null columns\n",
    "By default, social explorer creates many columns. Many of them have null values from top to bottom. What are the null columns? You can find out using the handy `isna()` command. Notice the chain of commands.\n",
    "\n",
    "[isna().all()](https://pandas.pydata.org/pandas-docs/stable/reference/api/pandas.DataFrame.isna.html)"
   ]
  },
  {
   "cell_type": "markdown",
   "metadata": {
    "slideshow": {
     "slide_type": "slide"
    }
   },
   "source": [
    "The `.all()` indicates that you want to find the columns that have ALL empty values. The other option would be `.any()` which would list all columns that have *at least one* empty value. "
   ]
  },
  {
   "cell_type": "code",
   "execution_count": 81,
   "metadata": {
    "scrolled": true
   },
   "outputs": [
    {
     "data": {
      "text/plain": [
       "['Geo_US',\n",
       " 'Geo_REGION',\n",
       " 'Geo_DIVISION',\n",
       " 'Geo_STATECE',\n",
       " 'Geo_COUSUB',\n",
       " 'Geo_PLACE',\n",
       " 'Geo_PLACESE',\n",
       " 'Geo_CONCIT',\n",
       " 'Geo_AIANHH',\n",
       " 'Geo_AIANHHFP',\n",
       " 'Geo_AIHHTLI',\n",
       " 'Geo_AITSCE',\n",
       " 'Geo_AITS',\n",
       " 'Geo_ANRC',\n",
       " 'Geo_CBSA',\n",
       " 'Geo_CSA',\n",
       " 'Geo_METDIV',\n",
       " 'Geo_MACC',\n",
       " 'Geo_MEMI',\n",
       " 'Geo_NECTA',\n",
       " 'Geo_CNECTA',\n",
       " 'Geo_NECTADIV',\n",
       " 'Geo_UA',\n",
       " 'Geo_UACP',\n",
       " 'Geo_CDCURR',\n",
       " 'Geo_SLDU',\n",
       " 'Geo_SLDL',\n",
       " 'Geo_VTD',\n",
       " 'Geo_ZCTA3',\n",
       " 'Geo_ZCTA5',\n",
       " 'Geo_SUBMCD',\n",
       " 'Geo_SDELM',\n",
       " 'Geo_SDSEC',\n",
       " 'Geo_SDUNI',\n",
       " 'Geo_UR',\n",
       " 'Geo_PCI',\n",
       " 'Geo_TAZ',\n",
       " 'Geo_UGA',\n",
       " 'Geo_BTTR',\n",
       " 'Geo_BTBG',\n",
       " 'Geo_PUMA5',\n",
       " 'Geo_PUMA1']"
      ]
     },
     "execution_count": 81,
     "metadata": {},
     "output_type": "execute_result"
    }
   ],
   "source": [
    "df.columns[df.isna().all()].tolist()"
   ]
  },
  {
   "cell_type": "markdown",
   "metadata": {
    "slideshow": {
     "slide_type": "slide"
    }
   },
   "source": [
    "Let's eliminate these. There is a handy pandas command to do so `.dropna()`. The arguments are `axis=1` which indicates you want to eliminate *columns* (`axis=0` would eliminate rows), and `how=\"all\"` to remove columns where all values are empty.\n",
    "\n",
    "* [dropna](https://pandas.pydata.org/pandas-docs/stable/reference/api/pandas.DataFrame.dropna.html)"
   ]
  },
  {
   "cell_type": "code",
   "execution_count": 82,
   "metadata": {
    "slideshow": {
     "slide_type": "fragment"
    }
   },
   "outputs": [],
   "source": [
    "df = df.dropna(axis=1,how=\"all\")"
   ]
  },
  {
   "cell_type": "code",
   "execution_count": 83,
   "metadata": {
    "scrolled": true,
    "slideshow": {
     "slide_type": "slide"
    }
   },
   "outputs": [
    {
     "name": "stdout",
     "output_type": "stream",
     "text": [
      "<class 'pandas.core.frame.DataFrame'>\n",
      "RangeIndex: 18 entries, 0 to 17\n",
      "Data columns (total 16 columns):\n",
      " #   Column         Non-Null Count  Dtype \n",
      "---  ------         --------------  ----- \n",
      " 0   Geo_FIPS       18 non-null     object\n",
      " 1   Geo_GEOID      18 non-null     object\n",
      " 2   Geo_NAME       18 non-null     object\n",
      " 3   Geo_QName      18 non-null     object\n",
      " 4   Geo_STUSAB     18 non-null     object\n",
      " 5   Geo_SUMLEV     18 non-null     int64 \n",
      " 6   Geo_GEOCOMP    18 non-null     int64 \n",
      " 7   Geo_FILEID     18 non-null     object\n",
      " 8   Geo_LOGRECNO   18 non-null     int64 \n",
      " 9   Geo_STATE      18 non-null     object\n",
      " 10  Geo_COUNTY     18 non-null     object\n",
      " 11  Geo_TRACT      18 non-null     int64 \n",
      " 12  Geo_BLKGRP     18 non-null     int64 \n",
      " 13  SE_A10060_001  18 non-null     int64 \n",
      " 14  SE_A10060_002  18 non-null     int64 \n",
      " 15  SE_A10060_003  18 non-null     int64 \n",
      "dtypes: int64(8), object(8)\n",
      "memory usage: 2.4+ KB\n"
     ]
    }
   ],
   "source": [
    "df.info()"
   ]
  },
  {
   "cell_type": "code",
   "execution_count": 84,
   "metadata": {
    "scrolled": false,
    "slideshow": {
     "slide_type": "slide"
    }
   },
   "outputs": [
    {
     "data": {
      "text/html": [
       "<div>\n",
       "<style scoped>\n",
       "    .dataframe tbody tr th:only-of-type {\n",
       "        vertical-align: middle;\n",
       "    }\n",
       "\n",
       "    .dataframe tbody tr th {\n",
       "        vertical-align: top;\n",
       "    }\n",
       "\n",
       "    .dataframe thead th {\n",
       "        text-align: right;\n",
       "    }\n",
       "</style>\n",
       "<table border=\"1\" class=\"dataframe\">\n",
       "  <thead>\n",
       "    <tr style=\"text-align: right;\">\n",
       "      <th></th>\n",
       "      <th>Geo_FIPS</th>\n",
       "      <th>Geo_GEOID</th>\n",
       "      <th>Geo_NAME</th>\n",
       "      <th>Geo_QName</th>\n",
       "      <th>Geo_STUSAB</th>\n",
       "      <th>Geo_SUMLEV</th>\n",
       "      <th>Geo_GEOCOMP</th>\n",
       "      <th>Geo_FILEID</th>\n",
       "      <th>Geo_LOGRECNO</th>\n",
       "      <th>Geo_STATE</th>\n",
       "      <th>Geo_COUNTY</th>\n",
       "      <th>Geo_TRACT</th>\n",
       "      <th>Geo_BLKGRP</th>\n",
       "      <th>SE_A10060_001</th>\n",
       "      <th>SE_A10060_002</th>\n",
       "      <th>SE_A10060_003</th>\n",
       "    </tr>\n",
       "  </thead>\n",
       "  <tbody>\n",
       "    <tr>\n",
       "      <th>0</th>\n",
       "      <td>060371863011</td>\n",
       "      <td>15000US060371863011</td>\n",
       "      <td>Block Group 1, Census Tract 1863.01, Los Angel...</td>\n",
       "      <td>Block Group 1, Census Tract 1863.01, Los Angel...</td>\n",
       "      <td>ca</td>\n",
       "      <td>150</td>\n",
       "      <td>0</td>\n",
       "      <td>ACSSF</td>\n",
       "      <td>15231</td>\n",
       "      <td>06</td>\n",
       "      <td>037</td>\n",
       "      <td>186301</td>\n",
       "      <td>1</td>\n",
       "      <td>357</td>\n",
       "      <td>245</td>\n",
       "      <td>112</td>\n",
       "    </tr>\n",
       "    <tr>\n",
       "      <th>1</th>\n",
       "      <td>060371863012</td>\n",
       "      <td>15000US060371863012</td>\n",
       "      <td>Block Group 2, Census Tract 1863.01, Los Angel...</td>\n",
       "      <td>Block Group 2, Census Tract 1863.01, Los Angel...</td>\n",
       "      <td>ca</td>\n",
       "      <td>150</td>\n",
       "      <td>0</td>\n",
       "      <td>ACSSF</td>\n",
       "      <td>15232</td>\n",
       "      <td>06</td>\n",
       "      <td>037</td>\n",
       "      <td>186301</td>\n",
       "      <td>2</td>\n",
       "      <td>207</td>\n",
       "      <td>56</td>\n",
       "      <td>151</td>\n",
       "    </tr>\n",
       "    <tr>\n",
       "      <th>2</th>\n",
       "      <td>060371863013</td>\n",
       "      <td>15000US060371863013</td>\n",
       "      <td>Block Group 3, Census Tract 1863.01, Los Angel...</td>\n",
       "      <td>Block Group 3, Census Tract 1863.01, Los Angel...</td>\n",
       "      <td>ca</td>\n",
       "      <td>150</td>\n",
       "      <td>0</td>\n",
       "      <td>ACSSF</td>\n",
       "      <td>15233</td>\n",
       "      <td>06</td>\n",
       "      <td>037</td>\n",
       "      <td>186301</td>\n",
       "      <td>3</td>\n",
       "      <td>293</td>\n",
       "      <td>20</td>\n",
       "      <td>273</td>\n",
       "    </tr>\n",
       "    <tr>\n",
       "      <th>3</th>\n",
       "      <td>060371863021</td>\n",
       "      <td>15000US060371863021</td>\n",
       "      <td>Block Group 1, Census Tract 1863.02, Los Angel...</td>\n",
       "      <td>Block Group 1, Census Tract 1863.02, Los Angel...</td>\n",
       "      <td>ca</td>\n",
       "      <td>150</td>\n",
       "      <td>0</td>\n",
       "      <td>ACSSF</td>\n",
       "      <td>15234</td>\n",
       "      <td>06</td>\n",
       "      <td>037</td>\n",
       "      <td>186302</td>\n",
       "      <td>1</td>\n",
       "      <td>523</td>\n",
       "      <td>316</td>\n",
       "      <td>207</td>\n",
       "    </tr>\n",
       "    <tr>\n",
       "      <th>4</th>\n",
       "      <td>060371864011</td>\n",
       "      <td>15000US060371864011</td>\n",
       "      <td>Block Group 1, Census Tract 1864.01, Los Angel...</td>\n",
       "      <td>Block Group 1, Census Tract 1864.01, Los Angel...</td>\n",
       "      <td>ca</td>\n",
       "      <td>150</td>\n",
       "      <td>0</td>\n",
       "      <td>ACSSF</td>\n",
       "      <td>15237</td>\n",
       "      <td>06</td>\n",
       "      <td>037</td>\n",
       "      <td>186401</td>\n",
       "      <td>1</td>\n",
       "      <td>637</td>\n",
       "      <td>48</td>\n",
       "      <td>589</td>\n",
       "    </tr>\n",
       "  </tbody>\n",
       "</table>\n",
       "</div>"
      ],
      "text/plain": [
       "       Geo_FIPS            Geo_GEOID  \\\n",
       "0  060371863011  15000US060371863011   \n",
       "1  060371863012  15000US060371863012   \n",
       "2  060371863013  15000US060371863013   \n",
       "3  060371863021  15000US060371863021   \n",
       "4  060371864011  15000US060371864011   \n",
       "\n",
       "                                            Geo_NAME  \\\n",
       "0  Block Group 1, Census Tract 1863.01, Los Angel...   \n",
       "1  Block Group 2, Census Tract 1863.01, Los Angel...   \n",
       "2  Block Group 3, Census Tract 1863.01, Los Angel...   \n",
       "3  Block Group 1, Census Tract 1863.02, Los Angel...   \n",
       "4  Block Group 1, Census Tract 1864.01, Los Angel...   \n",
       "\n",
       "                                           Geo_QName Geo_STUSAB  Geo_SUMLEV  \\\n",
       "0  Block Group 1, Census Tract 1863.01, Los Angel...         ca         150   \n",
       "1  Block Group 2, Census Tract 1863.01, Los Angel...         ca         150   \n",
       "2  Block Group 3, Census Tract 1863.01, Los Angel...         ca         150   \n",
       "3  Block Group 1, Census Tract 1863.02, Los Angel...         ca         150   \n",
       "4  Block Group 1, Census Tract 1864.01, Los Angel...         ca         150   \n",
       "\n",
       "   Geo_GEOCOMP Geo_FILEID  Geo_LOGRECNO Geo_STATE Geo_COUNTY  Geo_TRACT  \\\n",
       "0            0      ACSSF         15231        06        037     186301   \n",
       "1            0      ACSSF         15232        06        037     186301   \n",
       "2            0      ACSSF         15233        06        037     186301   \n",
       "3            0      ACSSF         15234        06        037     186302   \n",
       "4            0      ACSSF         15237        06        037     186401   \n",
       "\n",
       "   Geo_BLKGRP  SE_A10060_001  SE_A10060_002  SE_A10060_003  \n",
       "0           1            357            245            112  \n",
       "1           2            207             56            151  \n",
       "2           3            293             20            273  \n",
       "3           1            523            316            207  \n",
       "4           1            637             48            589  "
      ]
     },
     "execution_count": 84,
     "metadata": {},
     "output_type": "execute_result"
    }
   ],
   "source": [
    "# reinspect the data\n",
    "df.head()"
   ]
  },
  {
   "cell_type": "markdown",
   "metadata": {
    "slideshow": {
     "slide_type": "slide"
    }
   },
   "source": [
    "## Dropping columns by name\n",
    "We dropped the columns with empty values. There are still columns that we do not need, so let's eliminate those as well. First, create a list of column names that we want to drop."
   ]
  },
  {
   "cell_type": "code",
   "execution_count": 85,
   "metadata": {
    "slideshow": {
     "slide_type": "fragment"
    }
   },
   "outputs": [],
   "source": [
    "# list of additional columns to drop\n",
    "columns_to_drop = ['Geo_GEOID','Geo_STUSAB','Geo_SUMLEV','Geo_GEOCOMP','Geo_FILEID','Geo_LOGRECNO']"
   ]
  },
  {
   "cell_type": "code",
   "execution_count": 86,
   "metadata": {
    "scrolled": true,
    "slideshow": {
     "slide_type": "slide"
    }
   },
   "outputs": [
    {
     "data": {
      "text/html": [
       "<div>\n",
       "<style scoped>\n",
       "    .dataframe tbody tr th:only-of-type {\n",
       "        vertical-align: middle;\n",
       "    }\n",
       "\n",
       "    .dataframe tbody tr th {\n",
       "        vertical-align: top;\n",
       "    }\n",
       "\n",
       "    .dataframe thead th {\n",
       "        text-align: right;\n",
       "    }\n",
       "</style>\n",
       "<table border=\"1\" class=\"dataframe\">\n",
       "  <thead>\n",
       "    <tr style=\"text-align: right;\">\n",
       "      <th></th>\n",
       "      <th>Geo_FIPS</th>\n",
       "      <th>Geo_NAME</th>\n",
       "      <th>Geo_QName</th>\n",
       "      <th>Geo_STATE</th>\n",
       "      <th>Geo_COUNTY</th>\n",
       "      <th>Geo_TRACT</th>\n",
       "      <th>Geo_BLKGRP</th>\n",
       "      <th>SE_A10060_001</th>\n",
       "      <th>SE_A10060_002</th>\n",
       "      <th>SE_A10060_003</th>\n",
       "    </tr>\n",
       "  </thead>\n",
       "  <tbody>\n",
       "    <tr>\n",
       "      <th>0</th>\n",
       "      <td>060371863011</td>\n",
       "      <td>Block Group 1, Census Tract 1863.01, Los Angel...</td>\n",
       "      <td>Block Group 1, Census Tract 1863.01, Los Angel...</td>\n",
       "      <td>06</td>\n",
       "      <td>037</td>\n",
       "      <td>186301</td>\n",
       "      <td>1</td>\n",
       "      <td>357</td>\n",
       "      <td>245</td>\n",
       "      <td>112</td>\n",
       "    </tr>\n",
       "    <tr>\n",
       "      <th>1</th>\n",
       "      <td>060371863012</td>\n",
       "      <td>Block Group 2, Census Tract 1863.01, Los Angel...</td>\n",
       "      <td>Block Group 2, Census Tract 1863.01, Los Angel...</td>\n",
       "      <td>06</td>\n",
       "      <td>037</td>\n",
       "      <td>186301</td>\n",
       "      <td>2</td>\n",
       "      <td>207</td>\n",
       "      <td>56</td>\n",
       "      <td>151</td>\n",
       "    </tr>\n",
       "    <tr>\n",
       "      <th>2</th>\n",
       "      <td>060371863013</td>\n",
       "      <td>Block Group 3, Census Tract 1863.01, Los Angel...</td>\n",
       "      <td>Block Group 3, Census Tract 1863.01, Los Angel...</td>\n",
       "      <td>06</td>\n",
       "      <td>037</td>\n",
       "      <td>186301</td>\n",
       "      <td>3</td>\n",
       "      <td>293</td>\n",
       "      <td>20</td>\n",
       "      <td>273</td>\n",
       "    </tr>\n",
       "    <tr>\n",
       "      <th>3</th>\n",
       "      <td>060371863021</td>\n",
       "      <td>Block Group 1, Census Tract 1863.02, Los Angel...</td>\n",
       "      <td>Block Group 1, Census Tract 1863.02, Los Angel...</td>\n",
       "      <td>06</td>\n",
       "      <td>037</td>\n",
       "      <td>186302</td>\n",
       "      <td>1</td>\n",
       "      <td>523</td>\n",
       "      <td>316</td>\n",
       "      <td>207</td>\n",
       "    </tr>\n",
       "    <tr>\n",
       "      <th>4</th>\n",
       "      <td>060371864011</td>\n",
       "      <td>Block Group 1, Census Tract 1864.01, Los Angel...</td>\n",
       "      <td>Block Group 1, Census Tract 1864.01, Los Angel...</td>\n",
       "      <td>06</td>\n",
       "      <td>037</td>\n",
       "      <td>186401</td>\n",
       "      <td>1</td>\n",
       "      <td>637</td>\n",
       "      <td>48</td>\n",
       "      <td>589</td>\n",
       "    </tr>\n",
       "  </tbody>\n",
       "</table>\n",
       "</div>"
      ],
      "text/plain": [
       "       Geo_FIPS                                           Geo_NAME  \\\n",
       "0  060371863011  Block Group 1, Census Tract 1863.01, Los Angel...   \n",
       "1  060371863012  Block Group 2, Census Tract 1863.01, Los Angel...   \n",
       "2  060371863013  Block Group 3, Census Tract 1863.01, Los Angel...   \n",
       "3  060371863021  Block Group 1, Census Tract 1863.02, Los Angel...   \n",
       "4  060371864011  Block Group 1, Census Tract 1864.01, Los Angel...   \n",
       "\n",
       "                                           Geo_QName Geo_STATE Geo_COUNTY  \\\n",
       "0  Block Group 1, Census Tract 1863.01, Los Angel...        06        037   \n",
       "1  Block Group 2, Census Tract 1863.01, Los Angel...        06        037   \n",
       "2  Block Group 3, Census Tract 1863.01, Los Angel...        06        037   \n",
       "3  Block Group 1, Census Tract 1863.02, Los Angel...        06        037   \n",
       "4  Block Group 1, Census Tract 1864.01, Los Angel...        06        037   \n",
       "\n",
       "   Geo_TRACT  Geo_BLKGRP  SE_A10060_001  SE_A10060_002  SE_A10060_003  \n",
       "0     186301           1            357            245            112  \n",
       "1     186301           2            207             56            151  \n",
       "2     186301           3            293             20            273  \n",
       "3     186302           1            523            316            207  \n",
       "4     186401           1            637             48            589  "
      ]
     },
     "execution_count": 86,
     "metadata": {},
     "output_type": "execute_result"
    }
   ],
   "source": [
    "# next, drop them!\n",
    "df = df.drop(columns_to_drop,axis=1)\n",
    "df.head()"
   ]
  },
  {
   "cell_type": "markdown",
   "metadata": {
    "slideshow": {
     "slide_type": "slide"
    }
   },
   "source": [
    "## The census data dictionary\n",
    "What are these columns? Column headers are defined in the data dictionary text file downloaded from social explorer. For your reference, it has been uploaded to the data directory in this folder.\n",
    "* [data dictionary](data/se_la_race_dict.txt)"
   ]
  },
  {
   "cell_type": "markdown",
   "metadata": {
    "slideshow": {
     "slide_type": "slide"
    }
   },
   "source": [
    "## Renaming columns\n",
    "\n",
    "Let's rename the columns. First, create a list of column names as they are now."
   ]
  },
  {
   "cell_type": "code",
   "execution_count": 87,
   "metadata": {},
   "outputs": [
    {
     "data": {
      "text/plain": [
       "['Geo_FIPS',\n",
       " 'Geo_NAME',\n",
       " 'Geo_QName',\n",
       " 'Geo_STATE',\n",
       " 'Geo_COUNTY',\n",
       " 'Geo_TRACT',\n",
       " 'Geo_BLKGRP',\n",
       " 'SE_A10060_001',\n",
       " 'SE_A10060_002',\n",
       " 'SE_A10060_003']"
      ]
     },
     "execution_count": 87,
     "metadata": {},
     "output_type": "execute_result"
    }
   ],
   "source": [
    "columns = list(df) # this is the same as df.columns.to_list()\n",
    "columns"
   ]
  },
  {
   "cell_type": "markdown",
   "metadata": {
    "slideshow": {
     "slide_type": "slide"
    }
   },
   "source": [
    "Then, simply copy and paste the output list above, and define the columns with it. Replace the values with your desired column names"
   ]
  },
  {
   "cell_type": "code",
   "execution_count": 88,
   "metadata": {},
   "outputs": [],
   "source": [
    "df.columns = ['FIPS',\n",
    " 'Geo_NAME',\n",
    " 'Geo_QName',\n",
    " 'Geo_STATE',\n",
    " 'Geo_COUNTY',\n",
    " 'Geo_TRACT',\n",
    " 'Geo_BLKGRP',\n",
    " 'Occupied Housing Units',\n",
    " 'Owner Occupied',\n",
    " 'Renter Occupied']"
   ]
  },
  {
   "cell_type": "code",
   "execution_count": 89,
   "metadata": {
    "slideshow": {
     "slide_type": "slide"
    }
   },
   "outputs": [
    {
     "data": {
      "text/html": [
       "<div>\n",
       "<style scoped>\n",
       "    .dataframe tbody tr th:only-of-type {\n",
       "        vertical-align: middle;\n",
       "    }\n",
       "\n",
       "    .dataframe tbody tr th {\n",
       "        vertical-align: top;\n",
       "    }\n",
       "\n",
       "    .dataframe thead th {\n",
       "        text-align: right;\n",
       "    }\n",
       "</style>\n",
       "<table border=\"1\" class=\"dataframe\">\n",
       "  <thead>\n",
       "    <tr style=\"text-align: right;\">\n",
       "      <th></th>\n",
       "      <th>FIPS</th>\n",
       "      <th>Geo_NAME</th>\n",
       "      <th>Geo_QName</th>\n",
       "      <th>Geo_STATE</th>\n",
       "      <th>Geo_COUNTY</th>\n",
       "      <th>Geo_TRACT</th>\n",
       "      <th>Geo_BLKGRP</th>\n",
       "      <th>Occupied Housing Units</th>\n",
       "      <th>Owner Occupied</th>\n",
       "      <th>Renter Occupied</th>\n",
       "    </tr>\n",
       "  </thead>\n",
       "  <tbody>\n",
       "    <tr>\n",
       "      <th>0</th>\n",
       "      <td>060371863011</td>\n",
       "      <td>Block Group 1, Census Tract 1863.01, Los Angel...</td>\n",
       "      <td>Block Group 1, Census Tract 1863.01, Los Angel...</td>\n",
       "      <td>06</td>\n",
       "      <td>037</td>\n",
       "      <td>186301</td>\n",
       "      <td>1</td>\n",
       "      <td>357</td>\n",
       "      <td>245</td>\n",
       "      <td>112</td>\n",
       "    </tr>\n",
       "    <tr>\n",
       "      <th>1</th>\n",
       "      <td>060371863012</td>\n",
       "      <td>Block Group 2, Census Tract 1863.01, Los Angel...</td>\n",
       "      <td>Block Group 2, Census Tract 1863.01, Los Angel...</td>\n",
       "      <td>06</td>\n",
       "      <td>037</td>\n",
       "      <td>186301</td>\n",
       "      <td>2</td>\n",
       "      <td>207</td>\n",
       "      <td>56</td>\n",
       "      <td>151</td>\n",
       "    </tr>\n",
       "    <tr>\n",
       "      <th>2</th>\n",
       "      <td>060371863013</td>\n",
       "      <td>Block Group 3, Census Tract 1863.01, Los Angel...</td>\n",
       "      <td>Block Group 3, Census Tract 1863.01, Los Angel...</td>\n",
       "      <td>06</td>\n",
       "      <td>037</td>\n",
       "      <td>186301</td>\n",
       "      <td>3</td>\n",
       "      <td>293</td>\n",
       "      <td>20</td>\n",
       "      <td>273</td>\n",
       "    </tr>\n",
       "    <tr>\n",
       "      <th>3</th>\n",
       "      <td>060371863021</td>\n",
       "      <td>Block Group 1, Census Tract 1863.02, Los Angel...</td>\n",
       "      <td>Block Group 1, Census Tract 1863.02, Los Angel...</td>\n",
       "      <td>06</td>\n",
       "      <td>037</td>\n",
       "      <td>186302</td>\n",
       "      <td>1</td>\n",
       "      <td>523</td>\n",
       "      <td>316</td>\n",
       "      <td>207</td>\n",
       "    </tr>\n",
       "    <tr>\n",
       "      <th>4</th>\n",
       "      <td>060371864011</td>\n",
       "      <td>Block Group 1, Census Tract 1864.01, Los Angel...</td>\n",
       "      <td>Block Group 1, Census Tract 1864.01, Los Angel...</td>\n",
       "      <td>06</td>\n",
       "      <td>037</td>\n",
       "      <td>186401</td>\n",
       "      <td>1</td>\n",
       "      <td>637</td>\n",
       "      <td>48</td>\n",
       "      <td>589</td>\n",
       "    </tr>\n",
       "  </tbody>\n",
       "</table>\n",
       "</div>"
      ],
      "text/plain": [
       "           FIPS                                           Geo_NAME  \\\n",
       "0  060371863011  Block Group 1, Census Tract 1863.01, Los Angel...   \n",
       "1  060371863012  Block Group 2, Census Tract 1863.01, Los Angel...   \n",
       "2  060371863013  Block Group 3, Census Tract 1863.01, Los Angel...   \n",
       "3  060371863021  Block Group 1, Census Tract 1863.02, Los Angel...   \n",
       "4  060371864011  Block Group 1, Census Tract 1864.01, Los Angel...   \n",
       "\n",
       "                                           Geo_QName Geo_STATE Geo_COUNTY  \\\n",
       "0  Block Group 1, Census Tract 1863.01, Los Angel...        06        037   \n",
       "1  Block Group 2, Census Tract 1863.01, Los Angel...        06        037   \n",
       "2  Block Group 3, Census Tract 1863.01, Los Angel...        06        037   \n",
       "3  Block Group 1, Census Tract 1863.02, Los Angel...        06        037   \n",
       "4  Block Group 1, Census Tract 1864.01, Los Angel...        06        037   \n",
       "\n",
       "   Geo_TRACT  Geo_BLKGRP  Occupied Housing Units  Owner Occupied  \\\n",
       "0     186301           1                     357             245   \n",
       "1     186301           2                     207              56   \n",
       "2     186301           3                     293              20   \n",
       "3     186302           1                     523             316   \n",
       "4     186401           1                     637              48   \n",
       "\n",
       "   Renter Occupied  \n",
       "0              112  \n",
       "1              151  \n",
       "2              273  \n",
       "3              207  \n",
       "4              589  "
      ]
     },
     "execution_count": 89,
     "metadata": {},
     "output_type": "execute_result"
    }
   ],
   "source": [
    "df.head()"
   ]
  },
  {
   "cell_type": "markdown",
   "metadata": {
    "slideshow": {
     "slide_type": "slide"
    }
   },
   "source": [
    "## Simple stats and plots"
   ]
  },
  {
   "cell_type": "code",
   "execution_count": 90,
   "metadata": {
    "scrolled": true
   },
   "outputs": [
    {
     "data": {
      "text/plain": [
       "0    245\n",
       "1     56\n",
       "2     20\n",
       "3    316\n",
       "4     48\n",
       "Name: Owner Occupied, dtype: int64"
      ]
     },
     "execution_count": 90,
     "metadata": {},
     "output_type": "execute_result"
    }
   ],
   "source": [
    "# access a single column like df['col_name']\n",
    "df['Owner Occupied'].head()"
   ]
  },
  {
   "cell_type": "code",
   "execution_count": 91,
   "metadata": {
    "slideshow": {
     "slide_type": "slide"
    }
   },
   "outputs": [
    {
     "data": {
      "text/plain": [
       "172.16666666666666"
      ]
     },
     "execution_count": 91,
     "metadata": {},
     "output_type": "execute_result"
    }
   ],
   "source": [
    "# What is the mean?\n",
    "df['Owner Occupied'].mean()"
   ]
  },
  {
   "cell_type": "code",
   "execution_count": 92,
   "metadata": {},
   "outputs": [
    {
     "data": {
      "text/plain": [
       "count     18.000000\n",
       "mean     172.166667\n",
       "std      100.872809\n",
       "min       20.000000\n",
       "25%       72.500000\n",
       "50%      177.000000\n",
       "75%      247.250000\n",
       "max      337.000000\n",
       "Name: Owner Occupied, dtype: float64"
      ]
     },
     "execution_count": 92,
     "metadata": {},
     "output_type": "execute_result"
    }
   ],
   "source": [
    "# get some stats\n",
    "df['Owner Occupied'].describe()"
   ]
  },
  {
   "cell_type": "code",
   "execution_count": 93,
   "metadata": {
    "scrolled": true,
    "slideshow": {
     "slide_type": "slide"
    }
   },
   "outputs": [
    {
     "data": {
      "text/plain": [
       "<matplotlib.axes._subplots.AxesSubplot at 0x7fc37a7f9190>"
      ]
     },
     "execution_count": 93,
     "metadata": {},
     "output_type": "execute_result"
    },
    {
     "data": {
      "image/png": "[encoded data removed]",
      "text/plain": [
       "<Figure size 432x288 with 1 Axes>"
      ]
     },
     "metadata": {
      "needs_background": "light"
     },
     "output_type": "display_data"
    }
   ],
   "source": [
    "# plot it as a historgram with 50 bins\n",
    "df['Owner Occupied'].plot.hist(bins=50)"
   ]
  },
  {
   "cell_type": "markdown",
   "metadata": {
    "slideshow": {
     "slide_type": "slide"
    }
   },
   "source": [
    "<div class=\"alert alert-info\">\n",
    "    Now it's your turn. Find some stats for different fields in the data and output them below.\n",
    "    </div>"
   ]
  },
  {
   "cell_type": "code",
   "execution_count": null,
   "metadata": {},
   "outputs": [],
   "source": []
  },
  {
   "cell_type": "markdown",
   "metadata": {
    "slideshow": {
     "slide_type": "slide"
    }
   },
   "source": [
    "## Displaying null/missing values\n",
    "Earlier, we eliminated columns where *all* values were null. However, there may still exist null values in individual cells throughout the table. Null values, or empty values, can be problematic in many ways. It is always good practice to scrutinize your data for missing values, and to identify where they are and why. The following arguments are simple calls to the data to find where these null values are."
   ]
  },
  {
   "cell_type": "code",
   "execution_count": 94,
   "metadata": {
    "slideshow": {
     "slide_type": "slide"
    }
   },
   "outputs": [
    {
     "data": {
      "text/plain": [
       "18"
      ]
     },
     "execution_count": 94,
     "metadata": {},
     "output_type": "execute_result"
    }
   ],
   "source": [
    "# first double check how many rows we have\n",
    "len(df)"
   ]
  },
  {
   "cell_type": "code",
   "execution_count": 95,
   "metadata": {
    "scrolled": true,
    "slideshow": {
     "slide_type": "fragment"
    }
   },
   "outputs": [
    {
     "data": {
      "text/plain": [
       "FIPS                      0\n",
       "Geo_NAME                  0\n",
       "Geo_QName                 0\n",
       "Geo_STATE                 0\n",
       "Geo_COUNTY                0\n",
       "Geo_TRACT                 0\n",
       "Geo_BLKGRP                0\n",
       "Occupied Housing Units    0\n",
       "Owner Occupied            0\n",
       "Renter Occupied           0\n",
       "dtype: int64"
      ]
     },
     "execution_count": 95,
     "metadata": {},
     "output_type": "execute_result"
    }
   ],
   "source": [
    "# null values in the data for a all columns\n",
    "df.isna().sum()"
   ]
  },
  {
   "cell_type": "markdown",
   "metadata": {
    "slideshow": {
     "slide_type": "slide"
    }
   },
   "source": [
    "Which rows have null values, and how many? Let's output these rows."
   ]
  },
  {
   "cell_type": "code",
   "execution_count": 96,
   "metadata": {
    "scrolled": true
   },
   "outputs": [
    {
     "data": {
      "text/html": [
       "<div>\n",
       "<style scoped>\n",
       "    .dataframe tbody tr th:only-of-type {\n",
       "        vertical-align: middle;\n",
       "    }\n",
       "\n",
       "    .dataframe tbody tr th {\n",
       "        vertical-align: top;\n",
       "    }\n",
       "\n",
       "    .dataframe thead th {\n",
       "        text-align: right;\n",
       "    }\n",
       "</style>\n",
       "<table border=\"1\" class=\"dataframe\">\n",
       "  <thead>\n",
       "    <tr style=\"text-align: right;\">\n",
       "      <th></th>\n",
       "      <th>FIPS</th>\n",
       "      <th>Geo_NAME</th>\n",
       "      <th>Geo_QName</th>\n",
       "      <th>Geo_STATE</th>\n",
       "      <th>Geo_COUNTY</th>\n",
       "      <th>Geo_TRACT</th>\n",
       "      <th>Geo_BLKGRP</th>\n",
       "      <th>Occupied Housing Units</th>\n",
       "      <th>Owner Occupied</th>\n",
       "      <th>Renter Occupied</th>\n",
       "    </tr>\n",
       "  </thead>\n",
       "  <tbody>\n",
       "  </tbody>\n",
       "</table>\n",
       "</div>"
      ],
      "text/plain": [
       "Empty DataFrame\n",
       "Columns: [FIPS, Geo_NAME, Geo_QName, Geo_STATE, Geo_COUNTY, Geo_TRACT, Geo_BLKGRP, Occupied Housing Units, Owner Occupied, Renter Occupied]\n",
       "Index: []"
      ]
     },
     "execution_count": 96,
     "metadata": {},
     "output_type": "execute_result"
    }
   ],
   "source": [
    "# show rows with null columns\n",
    "df[df['Renter Occupied'].isnull()]"
   ]
  },
  {
   "cell_type": "markdown",
   "metadata": {
    "slideshow": {
     "slide_type": "slide"
    }
   },
   "source": [
    "Why do these rows have null values?"
   ]
  },
  {
   "cell_type": "markdown",
   "metadata": {
    "slideshow": {
     "slide_type": "slide"
    }
   },
   "source": [
    "## Sorting\n",
    "What are the top 10 most populated census tracts? What are the census tracts with the highest black popluation? To answer these questions, the simplest method is to sort the data by their respective columns."
   ]
  },
  {
   "cell_type": "code",
   "execution_count": 97,
   "metadata": {},
   "outputs": [],
   "source": [
    "df_sorted = df.sort_values(by='Renter Occupied',ascending = False)"
   ]
  },
  {
   "cell_type": "code",
   "execution_count": 33,
   "metadata": {
    "scrolled": true,
    "slideshow": {
     "slide_type": "slide"
    }
   },
   "outputs": [
    {
     "data": {
      "text/html": [
       "<div>\n",
       "<style scoped>\n",
       "    .dataframe tbody tr th:only-of-type {\n",
       "        vertical-align: middle;\n",
       "    }\n",
       "\n",
       "    .dataframe tbody tr th {\n",
       "        vertical-align: top;\n",
       "    }\n",
       "\n",
       "    .dataframe thead th {\n",
       "        text-align: right;\n",
       "    }\n",
       "</style>\n",
       "<table border=\"1\" class=\"dataframe\">\n",
       "  <thead>\n",
       "    <tr style=\"text-align: right;\">\n",
       "      <th></th>\n",
       "      <th>Geo_NAME</th>\n",
       "      <th>Renter Occupied</th>\n",
       "    </tr>\n",
       "  </thead>\n",
       "  <tbody>\n",
       "    <tr>\n",
       "      <th>12</th>\n",
       "      <td>Block Group 1, Census Tract 1881, Los Angeles ...</td>\n",
       "      <td>935</td>\n",
       "    </tr>\n",
       "    <tr>\n",
       "      <th>4</th>\n",
       "      <td>Block Group 1, Census Tract 1864.01, Los Angel...</td>\n",
       "      <td>589</td>\n",
       "    </tr>\n",
       "    <tr>\n",
       "      <th>11</th>\n",
       "      <td>Block Group 2, Census Tract 1871.02, Los Angel...</td>\n",
       "      <td>469</td>\n",
       "    </tr>\n",
       "    <tr>\n",
       "      <th>9</th>\n",
       "      <td>Block Group 2, Census Tract 1871.01, Los Angel...</td>\n",
       "      <td>405</td>\n",
       "    </tr>\n",
       "    <tr>\n",
       "      <th>5</th>\n",
       "      <td>Block Group 2, Census Tract 1864.01, Los Angel...</td>\n",
       "      <td>314</td>\n",
       "    </tr>\n",
       "    <tr>\n",
       "      <th>10</th>\n",
       "      <td>Block Group 1, Census Tract 1871.02, Los Angel...</td>\n",
       "      <td>291</td>\n",
       "    </tr>\n",
       "    <tr>\n",
       "      <th>7</th>\n",
       "      <td>Block Group 2, Census Tract 1864.03, Los Angel...</td>\n",
       "      <td>276</td>\n",
       "    </tr>\n",
       "    <tr>\n",
       "      <th>2</th>\n",
       "      <td>Block Group 3, Census Tract 1863.01, Los Angel...</td>\n",
       "      <td>273</td>\n",
       "    </tr>\n",
       "    <tr>\n",
       "      <th>15</th>\n",
       "      <td>Block Group 1, Census Tract 1883, Los Angeles ...</td>\n",
       "      <td>271</td>\n",
       "    </tr>\n",
       "    <tr>\n",
       "      <th>6</th>\n",
       "      <td>Block Group 1, Census Tract 1864.03, Los Angel...</td>\n",
       "      <td>266</td>\n",
       "    </tr>\n",
       "  </tbody>\n",
       "</table>\n",
       "</div>"
      ],
      "text/plain": [
       "                                             Geo_NAME  Renter Occupied\n",
       "12  Block Group 1, Census Tract 1881, Los Angeles ...              935\n",
       "4   Block Group 1, Census Tract 1864.01, Los Angel...              589\n",
       "11  Block Group 2, Census Tract 1871.02, Los Angel...              469\n",
       "9   Block Group 2, Census Tract 1871.01, Los Angel...              405\n",
       "5   Block Group 2, Census Tract 1864.01, Los Angel...              314\n",
       "10  Block Group 1, Census Tract 1871.02, Los Angel...              291\n",
       "7   Block Group 2, Census Tract 1864.03, Los Angel...              276\n",
       "2   Block Group 3, Census Tract 1863.01, Los Angel...              273\n",
       "15  Block Group 1, Census Tract 1883, Los Angeles ...              271\n",
       "6   Block Group 1, Census Tract 1864.03, Los Angel...              266"
      ]
     },
     "execution_count": 33,
     "metadata": {},
     "output_type": "execute_result"
    }
   ],
   "source": [
    "# display the data, but just a few columns to keep it clean\n",
    "df_sorted[['Geo_NAME','Renter Occupied']].head(10)"
   ]
  },
  {
   "cell_type": "code",
   "execution_count": 98,
   "metadata": {
    "slideshow": {
     "slide_type": "slide"
    }
   },
   "outputs": [
    {
     "data": {
      "text/plain": [
       "<matplotlib.axes._subplots.AxesSubplot at 0x7fc37a6ad3d0>"
      ]
     },
     "execution_count": 98,
     "metadata": {},
     "output_type": "execute_result"
    },
    {
     "data": {
      "image/png": "[encoded data removed]",
      "text/plain": [
       "<Figure size 432x288 with 1 Axes>"
      ]
     },
     "metadata": {
      "needs_background": "light"
     },
     "output_type": "display_data"
    }
   ],
   "source": [
    "# plot it\n",
    "df_sorted.head(10).plot.bar(x='Geo_NAME',\n",
    "                            y='Renter Occupied')"
   ]
  },
  {
   "cell_type": "code",
   "execution_count": 35,
   "metadata": {
    "slideshow": {
     "slide_type": "slide"
    }
   },
   "outputs": [
    {
     "data": {
      "text/plain": [
       "<matplotlib.axes._subplots.AxesSubplot at 0x7fc381813580>"
      ]
     },
     "execution_count": 35,
     "metadata": {},
     "output_type": "execute_result"
    },
    {
     "data": {
      "image/png": "[encoded data removed]",
      "text/plain": [
       "<Figure size 432x288 with 1 Axes>"
      ]
     },
     "metadata": {
      "needs_background": "light"
     },
     "output_type": "display_data"
    }
   ],
   "source": [
    "# Make it prettier with a title\n",
    "df_sorted.head(10).plot.bar(x='Geo_NAME',\n",
    "                            y='Renter Occupied', \n",
    "                            title='Top 10 Census Tracts with Highest Renter Occupied Units in Atwater Village')"
   ]
  },
  {
   "cell_type": "markdown",
   "metadata": {
    "slideshow": {
     "slide_type": "slide"
    }
   },
   "source": [
    "<div class=\"alert alert-info\">\n",
    "    Now it's your turn! Create a table and accompanying bar plot for the top 10 values for column of your choice\n",
    "</div>"
   ]
  },
  {
   "cell_type": "code",
   "execution_count": null,
   "metadata": {},
   "outputs": [],
   "source": [
    "\n"
   ]
  },
  {
   "cell_type": "markdown",
   "metadata": {
    "slideshow": {
     "slide_type": "slide"
    }
   },
   "source": [
    "## Filtering and subsetting data\n",
    "Sorting is one method, but the process of discovery compels us to interrogate the data in different ways. One method of doing so is to query, or filter the data to see specific views of the data based on a question you may have. For example, what are the census tract that have no people in them? Or, Which census tracts are more than 75% black?"
   ]
  },
  {
   "cell_type": "code",
   "execution_count": 99,
   "metadata": {
    "jupyter": {
     "outputs_hidden": true
    },
    "scrolled": true,
    "slideshow": {
     "slide_type": "slide"
    }
   },
   "outputs": [
    {
     "data": {
      "text/html": [
       "<div>\n",
       "<style scoped>\n",
       "    .dataframe tbody tr th:only-of-type {\n",
       "        vertical-align: middle;\n",
       "    }\n",
       "\n",
       "    .dataframe tbody tr th {\n",
       "        vertical-align: top;\n",
       "    }\n",
       "\n",
       "    .dataframe thead th {\n",
       "        text-align: right;\n",
       "    }\n",
       "</style>\n",
       "<table border=\"1\" class=\"dataframe\">\n",
       "  <thead>\n",
       "    <tr style=\"text-align: right;\">\n",
       "      <th></th>\n",
       "      <th>FIPS</th>\n",
       "      <th>Geo_NAME</th>\n",
       "      <th>Geo_QName</th>\n",
       "      <th>Geo_STATE</th>\n",
       "      <th>Geo_COUNTY</th>\n",
       "      <th>Geo_TRACT</th>\n",
       "      <th>Geo_BLKGRP</th>\n",
       "      <th>Occupied Housing Units</th>\n",
       "      <th>Owner Occupied</th>\n",
       "      <th>Renter Occupied</th>\n",
       "    </tr>\n",
       "  </thead>\n",
       "  <tbody>\n",
       "  </tbody>\n",
       "</table>\n",
       "</div>"
      ],
      "text/plain": [
       "Empty DataFrame\n",
       "Columns: [FIPS, Geo_NAME, Geo_QName, Geo_STATE, Geo_COUNTY, Geo_TRACT, Geo_BLKGRP, Occupied Housing Units, Owner Occupied, Renter Occupied]\n",
       "Index: []"
      ]
     },
     "execution_count": 99,
     "metadata": {},
     "output_type": "execute_result"
    }
   ],
   "source": [
    "# subset the data so that we can see the data per row... \n",
    "# in other words, this syntax is asking to \"show me the values in my dataframe that match this filter\n",
    "df[df['Renter Occupied']==0]"
   ]
  },
  {
   "cell_type": "markdown",
   "metadata": {
    "slideshow": {
     "slide_type": "slide"
    }
   },
   "source": [
    "Note that unless you specify the resulting output as a new variable, the results are only temporary (in memory). If you want to use the results for subsequent analysis, you need to create a new variable."
   ]
  },
  {
   "cell_type": "code",
   "execution_count": 100,
   "metadata": {},
   "outputs": [],
   "source": [
    "# create a new variable for census tracts with zero pop\n",
    "df_no_renter = df[df['Renter Occupied']==0]"
   ]
  },
  {
   "cell_type": "code",
   "execution_count": 101,
   "metadata": {
    "slideshow": {
     "slide_type": "slide"
    }
   },
   "outputs": [
    {
     "name": "stdout",
     "output_type": "stream",
     "text": [
      "There are 0 census tracts with no people in them\n"
     ]
    }
   ],
   "source": [
    "# how many records?\n",
    "print('There are ' + str(len(df_no_renter)) + ' census tracts with no people in them')"
   ]
  },
  {
   "cell_type": "code",
   "execution_count": 102,
   "metadata": {
    "scrolled": true,
    "slideshow": {
     "slide_type": "fragment"
    }
   },
   "outputs": [
    {
     "data": {
      "text/html": [
       "<div>\n",
       "<style scoped>\n",
       "    .dataframe tbody tr th:only-of-type {\n",
       "        vertical-align: middle;\n",
       "    }\n",
       "\n",
       "    .dataframe tbody tr th {\n",
       "        vertical-align: top;\n",
       "    }\n",
       "\n",
       "    .dataframe thead th {\n",
       "        text-align: right;\n",
       "    }\n",
       "</style>\n",
       "<table border=\"1\" class=\"dataframe\">\n",
       "  <thead>\n",
       "    <tr style=\"text-align: right;\">\n",
       "      <th></th>\n",
       "      <th>Geo_NAME</th>\n",
       "      <th>Renter Occupied</th>\n",
       "    </tr>\n",
       "  </thead>\n",
       "  <tbody>\n",
       "  </tbody>\n",
       "</table>\n",
       "</div>"
      ],
      "text/plain": [
       "Empty DataFrame\n",
       "Columns: [Geo_NAME, Renter Occupied]\n",
       "Index: []"
      ]
     },
     "execution_count": 102,
     "metadata": {},
     "output_type": "execute_result"
    }
   ],
   "source": [
    "# display it\n",
    "df_no_renter[['Geo_NAME','Renter Occupied']]"
   ]
  },
  {
   "cell_type": "markdown",
   "metadata": {
    "slideshow": {
     "slide_type": "slide"
    }
   },
   "source": [
    "<div class=\"alert alert-info\">\n",
    "    Now it's your turn! Find out how many census tracts are 75% or more Black, and output them in a table.\n",
    "    <br>\n",
    "    <br>\n",
    "    Extra points if you can show only relevant columns, and sort them from highest to lowest!\n",
    "</div>"
   ]
  },
  {
   "cell_type": "code",
   "execution_count": null,
   "metadata": {},
   "outputs": [],
   "source": []
  },
  {
   "cell_type": "markdown",
   "metadata": {
    "slideshow": {
     "slide_type": "slide"
    }
   },
   "source": [
    "# Maps!"
   ]
  },
  {
   "cell_type": "markdown",
   "metadata": {},
   "source": [
    "## Geopandas to read geojson\n",
    "Last week, we learned how to read a shapefile using geopandas. Geopandas can read other spatial file formats, so let's try it with the popular [geojson format](https://geojson.org/).\n",
    "\n",
    "* Data from the LA Times [Mapping LA Boundaries](http://boundaries.latimes.com/sets/)"
   ]
  },
  {
   "cell_type": "code",
   "execution_count": 135,
   "metadata": {},
   "outputs": [],
   "source": [
    "import geopandas as gpd"
   ]
  },
  {
   "cell_type": "code",
   "execution_count": 137,
   "metadata": {
    "slideshow": {
     "slide_type": "slide"
    }
   },
   "outputs": [
    {
     "data": {
      "text/html": [
       "<div>\n",
       "<style scoped>\n",
       "    .dataframe tbody tr th:only-of-type {\n",
       "        vertical-align: middle;\n",
       "    }\n",
       "\n",
       "    .dataframe tbody tr th {\n",
       "        vertical-align: top;\n",
       "    }\n",
       "\n",
       "    .dataframe thead th {\n",
       "        text-align: right;\n",
       "    }\n",
       "</style>\n",
       "<table border=\"1\" class=\"dataframe\">\n",
       "  <thead>\n",
       "    <tr style=\"text-align: right;\">\n",
       "      <th></th>\n",
       "      <th>kind</th>\n",
       "      <th>external_id</th>\n",
       "      <th>name</th>\n",
       "      <th>slug</th>\n",
       "      <th>set</th>\n",
       "      <th>metadata</th>\n",
       "      <th>resource_uri</th>\n",
       "      <th>geometry</th>\n",
       "    </tr>\n",
       "  </thead>\n",
       "  <tbody>\n",
       "    <tr>\n",
       "      <th>0</th>\n",
       "      <td>Census Tract (2012)</td>\n",
       "      <td>06037101110</td>\n",
       "      <td>06037101110</td>\n",
       "      <td>06037101110-census-tract-2012</td>\n",
       "      <td>/1.0/boundary-set/census-tracts-2012/</td>\n",
       "      <td>{'INTPTLAT': '+34.2594737', 'NAME': '1011.10',...</td>\n",
       "      <td>/1.0/boundary/06037101110-census-tract-2012/</td>\n",
       "      <td>MULTIPOLYGON (((-118.30229 34.25870, -118.3007...</td>\n",
       "    </tr>\n",
       "    <tr>\n",
       "      <th>1</th>\n",
       "      <td>Census Tract (2012)</td>\n",
       "      <td>06037101122</td>\n",
       "      <td>06037101122</td>\n",
       "      <td>06037101122-census-tract-2012</td>\n",
       "      <td>/1.0/boundary-set/census-tracts-2012/</td>\n",
       "      <td>{'INTPTLAT': '+34.2677213', 'NAME': '1011.22',...</td>\n",
       "      <td>/1.0/boundary/06037101122-census-tract-2012/</td>\n",
       "      <td>MULTIPOLYGON (((-118.30333 34.27354, -118.3031...</td>\n",
       "    </tr>\n",
       "    <tr>\n",
       "      <th>2</th>\n",
       "      <td>Census Tract (2012)</td>\n",
       "      <td>06037101210</td>\n",
       "      <td>06037101210</td>\n",
       "      <td>06037101210-census-tract-2012</td>\n",
       "      <td>/1.0/boundary-set/census-tracts-2012/</td>\n",
       "      <td>{'INTPTLAT': '+34.2529724', 'NAME': '1012.10',...</td>\n",
       "      <td>/1.0/boundary/06037101210-census-tract-2012/</td>\n",
       "      <td>MULTIPOLYGON (((-118.29945 34.25598, -118.2859...</td>\n",
       "    </tr>\n",
       "    <tr>\n",
       "      <th>3</th>\n",
       "      <td>Census Tract (2012)</td>\n",
       "      <td>06037101220</td>\n",
       "      <td>06037101220</td>\n",
       "      <td>06037101220-census-tract-2012</td>\n",
       "      <td>/1.0/boundary-set/census-tracts-2012/</td>\n",
       "      <td>{'INTPTLAT': '+34.2516085', 'NAME': '1012.20',...</td>\n",
       "      <td>/1.0/boundary/06037101220-census-tract-2012/</td>\n",
       "      <td>MULTIPOLYGON (((-118.28592 34.24896, -118.2859...</td>\n",
       "    </tr>\n",
       "    <tr>\n",
       "      <th>4</th>\n",
       "      <td>Census Tract (2012)</td>\n",
       "      <td>06037101300</td>\n",
       "      <td>06037101300</td>\n",
       "      <td>06037101300-census-tract-2012</td>\n",
       "      <td>/1.0/boundary-set/census-tracts-2012/</td>\n",
       "      <td>{'INTPTLAT': '+34.2487732', 'NAME': '1013', 'I...</td>\n",
       "      <td>/1.0/boundary/06037101300-census-tract-2012/</td>\n",
       "      <td>MULTIPOLYGON (((-118.27247 34.23253, -118.2719...</td>\n",
       "    </tr>\n",
       "  </tbody>\n",
       "</table>\n",
       "</div>"
      ],
      "text/plain": [
       "                  kind  external_id         name  \\\n",
       "0  Census Tract (2012)  06037101110  06037101110   \n",
       "1  Census Tract (2012)  06037101122  06037101122   \n",
       "2  Census Tract (2012)  06037101210  06037101210   \n",
       "3  Census Tract (2012)  06037101220  06037101220   \n",
       "4  Census Tract (2012)  06037101300  06037101300   \n",
       "\n",
       "                            slug                                    set  \\\n",
       "0  06037101110-census-tract-2012  /1.0/boundary-set/census-tracts-2012/   \n",
       "1  06037101122-census-tract-2012  /1.0/boundary-set/census-tracts-2012/   \n",
       "2  06037101210-census-tract-2012  /1.0/boundary-set/census-tracts-2012/   \n",
       "3  06037101220-census-tract-2012  /1.0/boundary-set/census-tracts-2012/   \n",
       "4  06037101300-census-tract-2012  /1.0/boundary-set/census-tracts-2012/   \n",
       "\n",
       "                                            metadata  \\\n",
       "0  {'INTPTLAT': '+34.2594737', 'NAME': '1011.10',...   \n",
       "1  {'INTPTLAT': '+34.2677213', 'NAME': '1011.22',...   \n",
       "2  {'INTPTLAT': '+34.2529724', 'NAME': '1012.10',...   \n",
       "3  {'INTPTLAT': '+34.2516085', 'NAME': '1012.20',...   \n",
       "4  {'INTPTLAT': '+34.2487732', 'NAME': '1013', 'I...   \n",
       "\n",
       "                                   resource_uri  \\\n",
       "0  /1.0/boundary/06037101110-census-tract-2012/   \n",
       "1  /1.0/boundary/06037101122-census-tract-2012/   \n",
       "2  /1.0/boundary/06037101210-census-tract-2012/   \n",
       "3  /1.0/boundary/06037101220-census-tract-2012/   \n",
       "4  /1.0/boundary/06037101300-census-tract-2012/   \n",
       "\n",
       "                                            geometry  \n",
       "0  MULTIPOLYGON (((-118.30229 34.25870, -118.3007...  \n",
       "1  MULTIPOLYGON (((-118.30333 34.27354, -118.3031...  \n",
       "2  MULTIPOLYGON (((-118.29945 34.25598, -118.2859...  \n",
       "3  MULTIPOLYGON (((-118.28592 34.24896, -118.2859...  \n",
       "4  MULTIPOLYGON (((-118.27247 34.23253, -118.2719...  "
      ]
     },
     "execution_count": 137,
     "metadata": {},
     "output_type": "execute_result"
    }
   ],
   "source": [
    "# read in a geojson file downloaded from the LA Times\n",
    "tracts=gpd.read_file('../../data/la_tracts.geojson')\n",
    "tracts.head()"
   ]
  },
  {
   "cell_type": "code",
   "execution_count": 138,
   "metadata": {
    "slideshow": {
     "slide_type": "slide"
    }
   },
   "outputs": [
    {
     "name": "stdout",
     "output_type": "stream",
     "text": [
      "<class 'geopandas.geodataframe.GeoDataFrame'>\n",
      "RangeIndex: 2346 entries, 0 to 2345\n",
      "Data columns (total 8 columns):\n",
      " #   Column        Non-Null Count  Dtype   \n",
      "---  ------        --------------  -----   \n",
      " 0   kind          2346 non-null   object  \n",
      " 1   external_id   2346 non-null   object  \n",
      " 2   name          2346 non-null   object  \n",
      " 3   slug          2346 non-null   object  \n",
      " 4   set           2346 non-null   object  \n",
      " 5   metadata      2346 non-null   object  \n",
      " 6   resource_uri  2346 non-null   object  \n",
      " 7   geometry      2346 non-null   geometry\n",
      "dtypes: geometry(1), object(7)\n",
      "memory usage: 146.8+ KB\n"
     ]
    }
   ],
   "source": [
    "# tell me more about this dataset\n",
    "tracts.info(verbose=True, null_counts=True)"
   ]
  },
  {
   "cell_type": "code",
   "execution_count": 140,
   "metadata": {
    "slideshow": {
     "slide_type": "slide"
    }
   },
   "outputs": [
    {
     "data": {
      "text/html": [
       "<div>\n",
       "<style scoped>\n",
       "    .dataframe tbody tr th:only-of-type {\n",
       "        vertical-align: middle;\n",
       "    }\n",
       "\n",
       "    .dataframe tbody tr th {\n",
       "        vertical-align: top;\n",
       "    }\n",
       "\n",
       "    .dataframe thead th {\n",
       "        text-align: right;\n",
       "    }\n",
       "</style>\n",
       "<table border=\"1\" class=\"dataframe\">\n",
       "  <thead>\n",
       "    <tr style=\"text-align: right;\">\n",
       "      <th></th>\n",
       "      <th>name</th>\n",
       "      <th>geometry</th>\n",
       "    </tr>\n",
       "  </thead>\n",
       "  <tbody>\n",
       "    <tr>\n",
       "      <th>0</th>\n",
       "      <td>06037101110</td>\n",
       "      <td>MULTIPOLYGON (((-118.30229 34.25870, -118.3007...</td>\n",
       "    </tr>\n",
       "    <tr>\n",
       "      <th>1</th>\n",
       "      <td>06037101122</td>\n",
       "      <td>MULTIPOLYGON (((-118.30333 34.27354, -118.3031...</td>\n",
       "    </tr>\n",
       "    <tr>\n",
       "      <th>2</th>\n",
       "      <td>06037101210</td>\n",
       "      <td>MULTIPOLYGON (((-118.29945 34.25598, -118.2859...</td>\n",
       "    </tr>\n",
       "    <tr>\n",
       "      <th>3</th>\n",
       "      <td>06037101220</td>\n",
       "      <td>MULTIPOLYGON (((-118.28592 34.24896, -118.2859...</td>\n",
       "    </tr>\n",
       "    <tr>\n",
       "      <th>4</th>\n",
       "      <td>06037101300</td>\n",
       "      <td>MULTIPOLYGON (((-118.27247 34.23253, -118.2719...</td>\n",
       "    </tr>\n",
       "  </tbody>\n",
       "</table>\n",
       "</div>"
      ],
      "text/plain": [
       "          name                                           geometry\n",
       "0  06037101110  MULTIPOLYGON (((-118.30229 34.25870, -118.3007...\n",
       "1  06037101122  MULTIPOLYGON (((-118.30333 34.27354, -118.3031...\n",
       "2  06037101210  MULTIPOLYGON (((-118.29945 34.25598, -118.2859...\n",
       "3  06037101220  MULTIPOLYGON (((-118.28592 34.24896, -118.2859...\n",
       "4  06037101300  MULTIPOLYGON (((-118.27247 34.23253, -118.2719..."
      ]
     },
     "execution_count": 140,
     "metadata": {},
     "output_type": "execute_result"
    }
   ],
   "source": [
    "# we only really need FIPS and geometry, so let's subset the data\n",
    "tracts = tracts[['name','geometry']]\n",
    "tracts.head()"
   ]
  },
  {
   "cell_type": "code",
   "execution_count": 142,
   "metadata": {
    "slideshow": {
     "slide_type": "slide"
    }
   },
   "outputs": [],
   "source": [
    "# rename the columns\n",
    "tracts.columns = ['FIPS','geometry']"
   ]
  },
  {
   "cell_type": "code",
   "execution_count": 143,
   "metadata": {},
   "outputs": [
    {
     "data": {
      "text/html": [
       "<div>\n",
       "<style scoped>\n",
       "    .dataframe tbody tr th:only-of-type {\n",
       "        vertical-align: middle;\n",
       "    }\n",
       "\n",
       "    .dataframe tbody tr th {\n",
       "        vertical-align: top;\n",
       "    }\n",
       "\n",
       "    .dataframe thead th {\n",
       "        text-align: right;\n",
       "    }\n",
       "</style>\n",
       "<table border=\"1\" class=\"dataframe\">\n",
       "  <thead>\n",
       "    <tr style=\"text-align: right;\">\n",
       "      <th></th>\n",
       "      <th>FIPS</th>\n",
       "      <th>geometry</th>\n",
       "    </tr>\n",
       "  </thead>\n",
       "  <tbody>\n",
       "    <tr>\n",
       "      <th>0</th>\n",
       "      <td>06037101110</td>\n",
       "      <td>MULTIPOLYGON (((-118.30229 34.25870, -118.3007...</td>\n",
       "    </tr>\n",
       "    <tr>\n",
       "      <th>1</th>\n",
       "      <td>06037101122</td>\n",
       "      <td>MULTIPOLYGON (((-118.30333 34.27354, -118.3031...</td>\n",
       "    </tr>\n",
       "    <tr>\n",
       "      <th>2</th>\n",
       "      <td>06037101210</td>\n",
       "      <td>MULTIPOLYGON (((-118.29945 34.25598, -118.2859...</td>\n",
       "    </tr>\n",
       "    <tr>\n",
       "      <th>3</th>\n",
       "      <td>06037101220</td>\n",
       "      <td>MULTIPOLYGON (((-118.28592 34.24896, -118.2859...</td>\n",
       "    </tr>\n",
       "    <tr>\n",
       "      <th>4</th>\n",
       "      <td>06037101300</td>\n",
       "      <td>MULTIPOLYGON (((-118.27247 34.23253, -118.2719...</td>\n",
       "    </tr>\n",
       "  </tbody>\n",
       "</table>\n",
       "</div>"
      ],
      "text/plain": [
       "          FIPS                                           geometry\n",
       "0  06037101110  MULTIPOLYGON (((-118.30229 34.25870, -118.3007...\n",
       "1  06037101122  MULTIPOLYGON (((-118.30333 34.27354, -118.3031...\n",
       "2  06037101210  MULTIPOLYGON (((-118.29945 34.25598, -118.2859...\n",
       "3  06037101220  MULTIPOLYGON (((-118.28592 34.24896, -118.2859...\n",
       "4  06037101300  MULTIPOLYGON (((-118.27247 34.23253, -118.2719..."
      ]
     },
     "execution_count": 143,
     "metadata": {},
     "output_type": "execute_result"
    }
   ],
   "source": [
    "tracts.head()"
   ]
  },
  {
   "cell_type": "code",
   "execution_count": 144,
   "metadata": {
    "slideshow": {
     "slide_type": "slide"
    }
   },
   "outputs": [
    {
     "data": {
      "text/plain": [
       "<matplotlib.axes._subplots.AxesSubplot at 0x7fc3731d9790>"
      ]
     },
     "execution_count": 144,
     "metadata": {},
     "output_type": "execute_result"
    },
    {
     "data": {
      "image/png": "[encoded data removed]",
      "text/plain": [
       "<Figure size 864x720 with 1 Axes>"
      ]
     },
     "metadata": {
      "needs_background": "light"
     },
     "output_type": "display_data"
    }
   ],
   "source": [
    "tracts.plot(figsize=(12,10))"
   ]
  },
  {
   "cell_type": "markdown",
   "metadata": {
    "slideshow": {
     "slide_type": "slide"
    }
   },
   "source": [
    "## Merging/joining data\n",
    "\n",
    "In order to map our census data from social explorer, we need to merge, or join it to our census tract geojson.\n",
    "\n",
    "<img src=\"images/join.png\">"
   ]
  },
  {
   "cell_type": "markdown",
   "metadata": {
    "slideshow": {
     "slide_type": "slide"
    }
   },
   "source": [
    "<div class=\"alert alert-danger\">\n",
    "    \n",
    "Remember the leading zero dilemma? This is why it is important to make sure our data types align. FIPS codes must be used as strings in order for them to join correctly.\n",
    "    \n",
    "</div>"
   ]
  },
  {
   "cell_type": "code",
   "execution_count": 145,
   "metadata": {
    "slideshow": {
     "slide_type": "slide"
    }
   },
   "outputs": [],
   "source": [
    "# create a new dataframe based on the join\n",
    "tracts_datar=tracts.merge(df,on=\"FIPS\")"
   ]
  },
  {
   "cell_type": "code",
   "execution_count": 147,
   "metadata": {
    "slideshow": {
     "slide_type": "fragment"
    }
   },
   "outputs": [
    {
     "data": {
      "text/html": [
       "<div>\n",
       "<style scoped>\n",
       "    .dataframe tbody tr th:only-of-type {\n",
       "        vertical-align: middle;\n",
       "    }\n",
       "\n",
       "    .dataframe tbody tr th {\n",
       "        vertical-align: top;\n",
       "    }\n",
       "\n",
       "    .dataframe thead th {\n",
       "        text-align: right;\n",
       "    }\n",
       "</style>\n",
       "<table border=\"1\" class=\"dataframe\">\n",
       "  <thead>\n",
       "    <tr style=\"text-align: right;\">\n",
       "      <th></th>\n",
       "      <th>FIPS</th>\n",
       "      <th>geometry</th>\n",
       "      <th>Geo_NAME</th>\n",
       "      <th>Geo_QName</th>\n",
       "      <th>Geo_STATE</th>\n",
       "      <th>Geo_COUNTY</th>\n",
       "      <th>Geo_TRACT</th>\n",
       "      <th>Geo_BLKGRP</th>\n",
       "      <th>Occupied Housing Units</th>\n",
       "      <th>Owner Occupied</th>\n",
       "      <th>Renter Occupied</th>\n",
       "    </tr>\n",
       "  </thead>\n",
       "  <tbody>\n",
       "  </tbody>\n",
       "</table>\n",
       "</div>"
      ],
      "text/plain": [
       "Empty GeoDataFrame\n",
       "Columns: [FIPS, geometry, Geo_NAME, Geo_QName, Geo_STATE, Geo_COUNTY, Geo_TRACT, Geo_BLKGRP, Occupied Housing Units, Owner Occupied, Renter Occupied]\n",
       "Index: []"
      ]
     },
     "execution_count": 147,
     "metadata": {},
     "output_type": "execute_result"
    }
   ],
   "source": [
    "# what does it look like now?\n",
    "tracts_data.head(100)"
   ]
  },
  {
   "cell_type": "markdown",
   "metadata": {
    "slideshow": {
     "slide_type": "slide"
    }
   },
   "source": [
    "We can now create choropleth maps in geopandas. \n",
    "\n",
    "* [geopandas choropleth maps](https://geopandas.org/mapping.html#choropleth-maps)\n",
    "* [color schemes](https://geopandas.org/mapping.html#choosing-colors)\n",
    "  * `natural_breaks`\n",
    "  * `equal_interval`\n",
    "  * `quantiles`"
   ]
  },
  {
   "cell_type": "code",
   "execution_count": 148,
   "metadata": {
    "slideshow": {
     "slide_type": "slide"
    }
   },
   "outputs": [
    {
     "data": {
      "text/plain": [
       "<bound method GeoDataFrame.plot of Empty GeoDataFrame\n",
       "Columns: [FIPS, geometry, Geo_NAME, Geo_QName, Geo_STATE, Geo_COUNTY, Geo_TRACT, Geo_BLKGRP, Occupied Housing Units, Owner Occupied, Renter Occupied]\n",
       "Index: []>"
      ]
     },
     "execution_count": 148,
     "metadata": {},
     "output_type": "execute_result"
    }
   ],
   "source": [
    "tracts_data.plot"
   ]
  },
  {
   "cell_type": "code",
   "execution_count": 149,
   "metadata": {
    "scrolled": true,
    "slideshow": {
     "slide_type": "slide"
    }
   },
   "outputs": [],
   "source": [
    "#DATA Did not merge on FIPS -- possible that data did not align with the same census tracts we selected for Atwater Village"
   ]
  },
  {
   "cell_type": "code",
   "execution_count": null,
   "metadata": {
    "scrolled": true,
    "slideshow": {
     "slide_type": "slide"
    }
   },
   "outputs": [],
   "source": []
  },
  {
   "cell_type": "markdown",
   "metadata": {
    "slideshow": {
     "slide_type": "slide"
    }
   },
   "source": [
    "<div class=\"alert alert-info\">\n",
    "\n",
    "Now it's your turn! Create map plots based on other race indicators. Experiment with the different schemes to display variations of the same data, mapped differently.\n",
    "\n",
    "</div>"
   ]
  },
  {
   "cell_type": "code",
   "execution_count": 150,
   "metadata": {},
   "outputs": [],
   "source": [
    "##Mike and Alejandro both selected the data on Social Explorer.\n",
    "##Mike has experience with Social Explorer so he created the csv file outputs and dropped them into a shared folder.\n",
    "##Alejandro imported the data to various notebooks on Jupyterhub and uploaded them to Github.\n",
    "##Both partners worked closely to create the methodology and the variables. "
   ]
  },
  {
   "cell_type": "markdown",
   "metadata": {
    "slideshow": {
     "slide_type": "slide"
    }
   },
   "source": []
  },
  {
   "cell_type": "code",
   "execution_count": null,
   "metadata": {},
   "outputs": [],
   "source": []
  },
  {
   "cell_type": "code",
   "execution_count": null,
   "metadata": {
    "slideshow": {
     "slide_type": "slide"
    }
   },
   "outputs": [],
   "source": []
  },
  {
   "cell_type": "code",
   "execution_count": null,
   "metadata": {
    "slideshow": {
     "slide_type": "slide"
    }
   },
   "outputs": [],
   "source": []
  },
  {
   "cell_type": "code",
   "execution_count": null,
   "metadata": {
    "slideshow": {
     "slide_type": "slide"
    }
   },
   "outputs": [],
   "source": []
  },
  {
   "cell_type": "markdown",
   "metadata": {
    "slideshow": {
     "slide_type": "slide"
    }
   },
   "source": [
    "\n"
   ]
  },
  {
   "cell_type": "code",
   "execution_count": null,
   "metadata": {},
   "outputs": [],
   "source": []
  },
  {
   "cell_type": "code",
   "execution_count": null,
   "metadata": {},
   "outputs": [],
   "source": []
  },
  {
   "cell_type": "code",
   "execution_count": null,
   "metadata": {},
   "outputs": [],
   "source": []
  }
 ],
 "metadata": {
  "celltoolbar": "Slideshow",
  "kernelspec": {
   "display_name": "Python 3",
   "language": "python",
   "name": "python3"
  },
  "language_info": {
   "codemirror_mode": {
    "name": "ipython",
    "version": 3
   },
   "file_extension": ".py",
   "mimetype": "text/x-python",
   "name": "python",
   "nbconvert_exporter": "python",
   "pygments_lexer": "ipython3",
   "version": "3.8.5"
  },
  "toc": {
   "base_numbering": 1,
   "nav_menu": {},
   "number_sections": true,
   "sideBar": true,
   "skip_h1_title": false,
   "title_cell": "Table of Contents",
   "title_sidebar": "Contents",
   "toc_cell": true,
   "toc_position": {
    "height": "calc(100% - 180px)",
    "left": "10px",
    "top": "150px",
    "width": "350.8px"
   },
   "toc_section_display": true,
   "toc_window_display": false
  }
 },
 "nbformat": 4,
 "nbformat_minor": 4
}
